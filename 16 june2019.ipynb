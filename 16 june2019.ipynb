{
 "cells": [
  {
   "cell_type": "code",
   "execution_count": 24,
   "metadata": {},
   "outputs": [
    {
     "data": {
      "text/plain": [
       "'abc'"
      ]
     },
     "execution_count": 24,
     "metadata": {},
     "output_type": "execute_result"
    }
   ],
   "source": [
    "#Function to toggle string characters\n",
    "\n",
    "s=\"abc\"\n",
    "s.islower() #check the case of charactor\n",
    "s.isupper()\n",
    "s.lower() #Convert a charactor to lowercase \n",
    "s.upper() #Convert a characot to upper case \n",
    "s.split()\n",
    "list(s)\n",
    "#s.split(\"\")\n",
    "\n",
    "s=list(s)\n",
    "\"\".join(s)"
   ]
  },
  {
   "cell_type": "code",
   "execution_count": 26,
   "metadata": {},
   "outputs": [
    {
     "data": {
      "text/plain": [
       "'aBC'"
      ]
     },
     "execution_count": 26,
     "metadata": {},
     "output_type": "execute_result"
    }
   ],
   "source": [
    "#Fanction to Toggle String charcactors\n",
    "\n",
    "def togglestring(s):\n",
    "    #Convert the string into a list of charactors\n",
    "    #s=list(s)\n",
    "    t=[]\n",
    "    for c in s:\n",
    "        if c.islower():\n",
    "            t+=c.upper()\n",
    "        else:\n",
    "            t+=c.lower()\n",
    "    return \"\".join(t)\n",
    "togglestring(\"Abc\")\n",
    "        \n",
    "    "
   ]
  },
  {
   "cell_type": "markdown",
   "metadata": {},
   "source": [
    "### Problem:Duration \n",
    "\n",
    "input:start time, end time(HH MM)\n",
    "\n",
    "        HH -  {00,01,02,.....23}\n",
    "        \n",
    "        MM -  {00,01,02,.....59}\n",
    "        \n",
    "        HH MM - {00 00, 23 59     \n",
    "output :time difference in HH MM\n",
    "\n",
    "\n",
    "\n",
    "\n"
   ]
  },
  {
   "cell_type": "code",
   "execution_count": 30,
   "metadata": {},
   "outputs": [
    {
     "name": "stdout",
     "output_type": "stream",
     "text": [
      "0 30\n"
     ]
    }
   ],
   "source": [
    "#Calculate the time differnce as total number of \n",
    "#Convert the total minutes into HH MM\n",
    "\n",
    "s=\"1 44 2 14 \"\n",
    "def minutediffernce(s):\n",
    "    s=s.split()\n",
    "    sh=int(s[0])\n",
    "    sm=int(s[1])\n",
    "    eh=int(s[2])\n",
    "    em=int(s[3])\n",
    "    startminutes = (sh*60)+sm\n",
    "    endminutes =(eh*60)+em\n",
    "    return endminutes-startminutes\n",
    "\n",
    "def outputtimeformat(minutes):\n",
    "    #Convert minutes to HH MM\n",
    "    hh = minutes // 60 \n",
    "    mm = minutes % 60\n",
    "    print (hh,mm)\n",
    "    return \n",
    "minutes = minutediffernce(s)\n",
    "outputtimeformat(minutes)"
   ]
  },
  {
   "cell_type": "markdown",
   "metadata": {},
   "source": [
    "### Problem : Play with Numbers\n",
    "\n",
    "line 1: array  "
   ]
  },
  {
   "cell_type": "code",
   "execution_count": null,
   "metadata": {},
   "outputs": [],
   "source": []
  },
  {
   "cell_type": "code",
   "execution_count": null,
   "metadata": {},
   "outputs": [],
   "source": []
  },
  {
   "cell_type": "markdown",
   "metadata": {},
   "source": [
    "### Instruction\n",
    "- Exam to be taken incoginato mode of the web browser \n",
    "    - login into Hackerearth in incoginto mode and take the test \n",
    "- 4 questions\n",
    "    - 3 questions are 5 marks each\n",
    "    - 1 question is 15 marks\n",
    "- Duration 1 hour \n",
    "\n"
   ]
  },
  {
   "cell_type": "code",
   "execution_count": null,
   "metadata": {},
   "outputs": [],
   "source": []
  }
 ],
 "metadata": {
  "kernelspec": {
   "display_name": "Python 3",
   "language": "python",
   "name": "python3"
  },
  "language_info": {
   "codemirror_mode": {
    "name": "ipython",
    "version": 3
   },
   "file_extension": ".py",
   "mimetype": "text/x-python",
   "name": "python",
   "nbconvert_exporter": "python",
   "pygments_lexer": "ipython3",
   "version": "3.7.3"
  }
 },
 "nbformat": 4,
 "nbformat_minor": 2
}
