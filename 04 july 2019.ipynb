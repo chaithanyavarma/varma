{
 "cells": [
  {
   "cell_type": "code",
   "execution_count": 9,
   "metadata": {},
   "outputs": [
    {
     "ename": "IndentationError",
     "evalue": "expected an indented block (<ipython-input-9-b44d99603dc4>, line 9)",
     "output_type": "error",
     "traceback": [
      "\u001b[1;36m  File \u001b[1;32m\"<ipython-input-9-b44d99603dc4>\"\u001b[1;36m, line \u001b[1;32m9\u001b[0m\n\u001b[1;33m    print(\"*****\")\u001b[0m\n\u001b[1;37m        ^\u001b[0m\n\u001b[1;31mIndentationError\u001b[0m\u001b[1;31m:\u001b[0m expected an indented block\n"
     ]
    }
   ],
   "source": []
  },
  {
   "cell_type": "code",
   "execution_count": 6,
   "metadata": {},
   "outputs": [
    {
     "ename": "ValueError",
     "evalue": "invalid literal for int() with base 10: ''",
     "output_type": "error",
     "traceback": [
      "\u001b[1;31m---------------------------------------------------------------------------\u001b[0m",
      "\u001b[1;31mValueError\u001b[0m                                Traceback (most recent call last)",
      "\u001b[1;32m<ipython-input-6-8ff0ced38093>\u001b[0m in \u001b[0;36m<module>\u001b[1;34m\u001b[0m\n\u001b[0;32m     12\u001b[0m \u001b[1;33m\u001b[0m\u001b[0m\n\u001b[0;32m     13\u001b[0m \u001b[1;33m\u001b[0m\u001b[0m\n\u001b[1;32m---> 14\u001b[1;33m \u001b[0mrez\u001b[0m\u001b[1;33m=\u001b[0m\u001b[1;33m[\u001b[0m\u001b[0mseats\u001b[0m\u001b[1;33m[\u001b[0m\u001b[0mint\u001b[0m\u001b[1;33m(\u001b[0m\u001b[0mstdin\u001b[0m\u001b[1;33m.\u001b[0m\u001b[0mreadline\u001b[0m\u001b[1;33m(\u001b[0m\u001b[1;33m)\u001b[0m\u001b[1;33m)\u001b[0m\u001b[1;33m-\u001b[0m\u001b[1;36m1\u001b[0m\u001b[1;33m]\u001b[0m \u001b[1;32mfor\u001b[0m \u001b[0m_\u001b[0m \u001b[1;32min\u001b[0m \u001b[0mrange\u001b[0m\u001b[1;33m(\u001b[0m\u001b[0mint\u001b[0m\u001b[1;33m(\u001b[0m\u001b[0mstdin\u001b[0m\u001b[1;33m.\u001b[0m\u001b[0mreadline\u001b[0m\u001b[1;33m(\u001b[0m\u001b[1;33m)\u001b[0m\u001b[1;33m)\u001b[0m\u001b[1;33m)\u001b[0m\u001b[1;33m]\u001b[0m\u001b[1;33m\u001b[0m\u001b[1;33m\u001b[0m\u001b[0m\n\u001b[0m\u001b[0;32m     15\u001b[0m \u001b[0mstdout\u001b[0m\u001b[1;33m.\u001b[0m\u001b[0mwrite\u001b[0m\u001b[1;33m(\u001b[0m\u001b[1;34m''\u001b[0m\u001b[1;33m.\u001b[0m\u001b[0mjoin\u001b[0m\u001b[1;33m(\u001b[0m\u001b[0mrez\u001b[0m\u001b[1;33m)\u001b[0m\u001b[1;33m)\u001b[0m\u001b[1;33m\u001b[0m\u001b[1;33m\u001b[0m\u001b[0m\n",
      "\u001b[1;31mValueError\u001b[0m: invalid literal for int() with base 10: ''"
     ]
    }
   ],
   "source": [
    "from sys import stdin, stdout\n",
    " \n",
    "seats = ['12 WS\\n', '11 MS\\n', '10 AS\\n', '9 AS\\n', '8 MS\\n', '7 WS\\n', '6 WS\\n', '5 MS\\n', '4 AS\\n', '3 AS\\n', '2 MS\\n', '1 WS\\n', '24 WS\\n',\n",
    "         '23 MS\\n', '22 AS\\n', '21 AS\\n', '20 MS\\n', '19 WS\\n', '18 WS\\n', '17 MS\\n', '16 AS\\n', '15 AS\\n', '14 MS\\n', '13 WS\\n', '36 WS\\n',\n",
    "         '35 MS\\n', '34 AS\\n', '33 AS\\n', '32 MS\\n', '31 WS\\n', '30 WS\\n', '29 MS\\n', '28 AS\\n', '27 AS\\n', '26 MS\\n', '25 WS\\n', '48 WS\\n',\n",
    "         '47 MS\\n', '46 AS\\n', '45 AS\\n', '44 MS\\n', '43 WS\\n', '42 WS\\n', '41 MS\\n', '40 AS\\n', '39 AS\\n', '38 MS\\n', '37 WS\\n', '60 WS\\n',\n",
    "         '59 MS\\n', '58 AS\\n', '57 AS\\n', '56 MS\\n', '55 WS\\n', '54 WS\\n', '53 MS\\n', '52 AS\\n', '51 AS\\n', '50 MS\\n', '49 WS\\n', '72 WS\\n',\n",
    "         '71 MS\\n', '70 AS\\n', '69 AS\\n', '68 MS\\n', '67 WS\\n', '66 WS\\n', '65 MS\\n', '64 AS\\n', '63 AS\\n', '62 MS\\n', '61 WS\\n', '84 WS\\n',\n",
    "         '83 MS\\n', '82 AS\\n', '81 AS\\n', '80 MS\\n', '79 WS\\n', '78 WS\\n', '77 MS\\n', '76 AS\\n', '75 AS\\n', '74 MS\\n', '73 WS\\n', '96 WS\\n',\n",
    "         '95 MS\\n', '94 AS\\n', '93 AS\\n', '92 MS\\n', '91 WS\\n', '90 WS\\n', '89 MS\\n', '88 AS\\n', '87 AS\\n', '86 MS\\n', '85 WS\\n', '108 WS\\n',\n",
    "         '107 MS\\n', '106 AS\\n', '105 AS\\n', '104 MS\\n', '103 WS\\n', '102 WS\\n', '101 MS\\n', '100 AS\\n', '99 AS\\n', '98 MS\\n', '97 WS']\n",
    " \n",
    " \n",
    "rez=[seats[int(stdin.readline())-1] for _ in range(int(stdin.readline()))]\n",
    "stdout.write(''.join(rez))"
   ]
  },
  {
   "cell_type": "code",
   "execution_count": 10,
   "metadata": {},
   "outputs": [
    {
     "name": "stdout",
     "output_type": "stream",
     "text": [
      "4\n",
      "0\n"
     ]
    }
   ],
   "source": [
    "s=input('')\n",
    "l=list(range(1,27))\n",
    "sum=0\n",
    "for i in s:\n",
    "    a=ord(i) - 97 + 1\n",
    "    if a in l:\n",
    "        sum = sum + a\n",
    "print(sum)"
   ]
  },
  {
   "cell_type": "code",
   "execution_count": 12,
   "metadata": {},
   "outputs": [
    {
     "name": "stdout",
     "output_type": "stream",
     "text": [
      "1\n",
      "1\n"
     ]
    },
    {
     "ename": "ValueError",
     "evalue": "not enough values to unpack (expected 2, got 1)",
     "output_type": "error",
     "traceback": [
      "\u001b[1;31m---------------------------------------------------------------------------\u001b[0m",
      "\u001b[1;31mValueError\u001b[0m                                Traceback (most recent call last)",
      "\u001b[1;32m<ipython-input-12-35ad17c12ec8>\u001b[0m in \u001b[0;36m<module>\u001b[1;34m\u001b[0m\n\u001b[0;32m      1\u001b[0m \u001b[1;32mfor\u001b[0m \u001b[0ms\u001b[0m \u001b[1;32min\u001b[0m \u001b[0mrange\u001b[0m\u001b[1;33m(\u001b[0m\u001b[0mint\u001b[0m\u001b[1;33m(\u001b[0m\u001b[0minput\u001b[0m\u001b[1;33m(\u001b[0m\u001b[1;33m)\u001b[0m\u001b[1;33m)\u001b[0m\u001b[1;33m)\u001b[0m\u001b[1;33m:\u001b[0m\u001b[1;33m\u001b[0m\u001b[1;33m\u001b[0m\u001b[0m\n\u001b[1;32m----> 2\u001b[1;33m     \u001b[0mg\u001b[0m\u001b[1;33m,\u001b[0m\u001b[0mp\u001b[0m\u001b[1;33m=\u001b[0m\u001b[1;33m(\u001b[0m\u001b[0mmap\u001b[0m\u001b[1;33m(\u001b[0m\u001b[0mint\u001b[0m\u001b[1;33m,\u001b[0m\u001b[0minput\u001b[0m\u001b[1;33m(\u001b[0m\u001b[1;33m)\u001b[0m\u001b[1;33m.\u001b[0m\u001b[0msplit\u001b[0m\u001b[1;33m(\u001b[0m\u001b[1;33m)\u001b[0m\u001b[1;33m)\u001b[0m\u001b[1;33m)\u001b[0m\u001b[1;33m\u001b[0m\u001b[1;33m\u001b[0m\u001b[0m\n\u001b[0m\u001b[0;32m      3\u001b[0m     \u001b[0mn\u001b[0m\u001b[1;33m=\u001b[0m\u001b[0mint\u001b[0m\u001b[1;33m(\u001b[0m\u001b[0minput\u001b[0m\u001b[1;33m(\u001b[0m\u001b[1;33m)\u001b[0m\u001b[1;33m)\u001b[0m\u001b[1;33m\u001b[0m\u001b[1;33m\u001b[0m\u001b[0m\n\u001b[0;32m      4\u001b[0m     \u001b[0mm\u001b[0m\u001b[1;33m=\u001b[0m\u001b[1;36m0\u001b[0m\u001b[1;33m\u001b[0m\u001b[1;33m\u001b[0m\u001b[0m\n\u001b[0;32m      5\u001b[0m     \u001b[0mm1\u001b[0m\u001b[1;33m=\u001b[0m\u001b[1;36m0\u001b[0m\u001b[1;33m\u001b[0m\u001b[1;33m\u001b[0m\u001b[0m\n",
      "\u001b[1;31mValueError\u001b[0m: not enough values to unpack (expected 2, got 1)"
     ]
    }
   ],
   "source": [
    "for s in range(int(input())):\n",
    "    g,p=(map(int,input().split()))\n",
    "    n=int(input())\n",
    "    m=0\n",
    "    m1=0\n",
    "    for i in range(n):\n",
    "        l,l1=(map(int,input().split()))\n",
    "        m+=l\n",
    "        m1+=l1\n",
    "    if m1>m:\n",
    "        t=m\n",
    "        m=m1\n",
    "        m1=s\n",
    "    if g>p:\n",
    "        print((g*m1)+(p*m))\n",
    "    else:\n",
    "        print((g*m)+(p*m1))"
   ]
  },
  {
   "cell_type": "code",
   "execution_count": null,
   "metadata": {},
   "outputs": [],
   "source": [
    "n=int(input())\n",
    "count=0\n",
    "cnt=0.0\n",
    "for i in range(1,n+1):\n",
    "    count+=i\n",
    "    if(count+cnt>=n):\n",
    "        print(\"Patlu\")\n",
    "        break\n",
    "    cnt+=i*2\n",
    "    if(count+cnt>=n):\n",
    "        print(\"Motu\")\n",
    "        break"
   ]
  }
 ],
 "metadata": {
  "kernelspec": {
   "display_name": "Python 3",
   "language": "python",
   "name": "python3"
  },
  "language_info": {
   "codemirror_mode": {
    "name": "ipython",
    "version": 3
   },
   "file_extension": ".py",
   "mimetype": "text/x-python",
   "name": "python",
   "nbconvert_exporter": "python",
   "pygments_lexer": "ipython3",
   "version": "3.7.3"
  }
 },
 "nbformat": 4,
 "nbformat_minor": 2
}
