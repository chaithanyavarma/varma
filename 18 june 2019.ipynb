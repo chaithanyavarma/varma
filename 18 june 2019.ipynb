{
 "cells": [
  {
   "cell_type": "code",
   "execution_count": null,
   "metadata": {},
   "outputs": [],
   "source": [
    "n=input().split()\n",
    "n[0],n[1]=int(n[n]),int(n[1])\n",
    "\n",
    "a=input().split()\n",
    "sum =[]\n",
    "\n",
    "#Cumulative sum\n",
    " for i in range (0,n):\n",
    "sum[0] = sum [i-1      ] #first element\n",
    "sum[0] = #first+second\n",
    "sum[2] = #sum[1]+third-> sum [2]-sum[i-1]\n"
   ]
  },
  {
   "cell_type": "markdown",
   "metadata": {},
   "source": [
    "### Special Number\n"
   ]
  },
  {
   "cell_type": "code",
   "execution_count": 14,
   "metadata": {},
   "outputs": [
    {
     "ename": "SyntaxError",
     "evalue": "invalid syntax (<ipython-input-14-4a8510aeb0b5>, line 18)",
     "output_type": "error",
     "traceback": [
      "\u001b[1;36m  File \u001b[1;32m\"<ipython-input-14-4a8510aeb0b5>\"\u001b[1;36m, line \u001b[1;32m18\u001b[0m\n\u001b[1;33m    numberprimefactors(n):\u001b[0m\n\u001b[1;37m                          ^\u001b[0m\n\u001b[1;31mSyntaxError\u001b[0m\u001b[1;31m:\u001b[0m invalid syntax\n"
     ]
    }
   ],
   "source": [
    "#funcation to determine if a number is special number of\n",
    "#Function to check if number is primeis \n",
    "def isprime(n):\n",
    "    flag = 1\n",
    "    if n == 2:\n",
    "        return True \n",
    "    for i in range(2,n//2+1):\n",
    "        if n % i==0:\n",
    "            flag =0\n",
    "            return False \n",
    "    if flag == 1:\n",
    "        return True\n",
    "isprime(17)\n",
    "        \n",
    "    \n",
    "    \n",
    "## Function to determine number of prime factor \n",
    "\n",
    "numberprimefactors(n):\n",
    "    if isprime(n):\n",
    "        return 1\n",
    "    count =0\n",
    "    for i in range (2,n//2+1):\n",
    "        if isprime(i) and n % i ==0:\n",
    "            count += 1\n",
    "    return count\n",
    "numberprimefactors(30)\n",
    "    "
   ]
  },
  {
   "cell_type": "code",
   "execution_count": null,
   "metadata": {},
   "outputs": [],
   "source": []
  },
  {
   "cell_type": "markdown",
   "metadata": {},
   "source": [
    "### Problem : Highest Reminder \n",
    "write a program to find a natural number that is smaller\n",
    "\n",
    "N\n",
    "highest = 0\n",
    "x<N and n % x == highest \n",
    "\n",
    "10\n",
    "9 1\n",
    "8 2\n",
    "7 3\n",
    "6 4\n",
    "5 0\n",
    "4 2\n",
    "3 1\n",
    "2 0\n",
    "\n",
    "16 14\n",
    "15 0\n",
    "\n",
    "9\n",
    "8 1\n",
    "7 2\n",
    "6 3  \n",
    "5 4\n",
    "\n",
    "5 0\n"
   ]
  },
  {
   "cell_type": "code",
   "execution_count": 18,
   "metadata": {},
   "outputs": [
    {
     "name": "stdout",
     "output_type": "stream",
     "text": [
      "4\n"
     ]
    }
   ],
   "source": [
    "def highestreminder (n):\n",
    "    hr =0\n",
    "    v=n\n",
    "    for i in  range (n-1,n//2+1,-1):\n",
    "        r = n % i\n",
    "        if r > hr:\n",
    "            hr =r\n",
    "            v = i\n",
    "    print (v)\n",
    "    return\n",
    "highestreminder (5)"
   ]
  },
  {
   "cell_type": "code",
   "execution_count": 11,
   "metadata": {},
   "outputs": [
    {
     "ename": "NameError",
     "evalue": "name 'isprime' is not defined",
     "output_type": "error",
     "traceback": [
      "\u001b[1;31m---------------------------------------------------------------------------\u001b[0m",
      "\u001b[1;31mNameError\u001b[0m                                 Traceback (most recent call last)",
      "\u001b[1;32m<ipython-input-11-b382b4800b05>\u001b[0m in \u001b[0;36m<module>\u001b[1;34m\u001b[0m\n\u001b[0;32m      1\u001b[0m \u001b[1;32mfrom\u001b[0m \u001b[0mPackages\u001b[0m \u001b[1;32mimport\u001b[0m \u001b[0mnumerical\u001b[0m\u001b[1;33m\u001b[0m\u001b[1;33m\u001b[0m\u001b[0m\n\u001b[1;32m----> 2\u001b[1;33m \u001b[0misprime\u001b[0m\u001b[1;33m(\u001b[0m\u001b[1;36m105\u001b[0m\u001b[1;33m)\u001b[0m\u001b[1;33m\u001b[0m\u001b[1;33m\u001b[0m\u001b[0m\n\u001b[0m",
      "\u001b[1;31mNameError\u001b[0m: name 'isprime' is not defined"
     ]
    }
   ],
   "source": [
    "from Packages import numerical\n",
    "\n",
    "isprime(105)"
   ]
  },
  {
   "cell_type": "code",
   "execution_count": null,
   "metadata": {},
   "outputs": [],
   "source": []
  }
 ],
 "metadata": {
  "kernelspec": {
   "display_name": "Python 3",
   "language": "python",
   "name": "python3"
  },
  "language_info": {
   "codemirror_mode": {
    "name": "ipython",
    "version": 3
   },
   "file_extension": ".py",
   "mimetype": "text/x-python",
   "name": "python",
   "nbconvert_exporter": "python",
   "pygments_lexer": "ipython3",
   "version": "3.7.3"
  }
 },
 "nbformat": 4,
 "nbformat_minor": 2
}
