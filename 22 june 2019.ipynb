{
 "cells": [
  {
   "cell_type": "code",
   "execution_count": null,
   "metadata": {},
   "outputs": [],
   "source": []
  },
  {
   "cell_type": "markdown",
   "metadata": {},
   "source": [
    "#### Date : 22 June 2019\n",
    "#### Day Obectives\n",
    "- File Handling\n",
    "    - Basic File Data Processing \n",
    "        - Accessing and Modifying File data\n",
    "    - Character Count \n",
    "    - Line Count \n",
    "    - File size \n",
    "    - Word Count \n",
    "    - Unique Word Count "
   ]
  },
  {
   "cell_type": "code",
   "execution_count": 12,
   "metadata": {},
   "outputs": [
    {
     "name": "stdout",
     "output_type": "stream",
     "text": [
      "some ones are going to where they don't know but i know the where i am going what my destiny\n",
      "\n"
     ]
    }
   ],
   "source": [
    "# Read a File - File should exist (Read mode)\n",
    "# write to a File - Existing(append)or New File(write mode)\n",
    "\n",
    "def readfile(filepath):\n",
    "    with open(filepath,'r') as f:\n",
    "        filedata = f.read()\n",
    "    return filedata\n",
    "\n",
    "filepath = 'datafiles/varma.txt'\n",
    "print(readfile(filepath))\n"
   ]
  },
  {
   "cell_type": "code",
   "execution_count": 20,
   "metadata": {},
   "outputs": [
    {
     "name": "stdout",
     "output_type": "stream",
     "text": [
      "total number ofcharacter: 73\n"
     ]
    }
   ],
   "source": [
    "def chartcount(filepath):\n",
    "    count =0\n",
    "    with open (filepath,'r') as f:\n",
    "        filepath ='datafile/varma.txt'\n",
    "        filedata= f.read()\n",
    "        for i in filedata:\n",
    "            if i.isspace() != True:\n",
    "                count = count+1\n",
    "        print(\"total number ofcharacter:\",count)\n",
    "chartcount(filepath)"
   ]
  },
  {
   "cell_type": "code",
   "execution_count": 29,
   "metadata": {},
   "outputs": [
    {
     "name": "stdout",
     "output_type": "stream",
     "text": [
      "total number of words: 60\n"
     ]
    }
   ],
   "source": [
    "#word count\n",
    "def wordcount(filepath):\n",
    "    count =0\n",
    "    with open (filepath,'r') as f:\n",
    "        filepath ='datafile/varma.txt'\n",
    "        filedata= f.read()\n",
    "        for i in filedata:\n",
    "            if i.isspace() == True:\n",
    "                count = count+1\n",
    "        print(\"total number ofcharacter:\",count)\n",
    "wordcount(filepath)"
   ]
  },
  {
   "cell_type": "code",
   "execution_count": 31,
   "metadata": {},
   "outputs": [
    {
     "name": "stdout",
     "output_type": "stream",
     "text": [
      "total number of lines: 0\n"
     ]
    }
   ],
   "source": [
    "#line count\n",
    "def linecount(filepath):\n",
    "    count =0\n",
    "    with open (filepath,'r') as f:\n",
    "        filepath ='datafile/varma.txt'\n",
    "        filedata= f.read()\n",
    "        for i in filedata:\n",
    "            if i ==('/n'):\n",
    "                count = count+1\n",
    "        print(\"total number of lines:\",count)\n",
    "linecount(filepath)"
   ]
  },
  {
   "cell_type": "code",
   "execution_count": 38,
   "metadata": {},
   "outputs": [
    {
     "name": "stdout",
     "output_type": "stream",
     "text": [
      "total filesize: 10920 bytes\n"
     ]
    }
   ],
   "source": [
    "#size of a file\n",
    "def filesize(filepath):\n",
    "    size=39\n",
    "    with open (filepath,'r') as f:\n",
    "        filepath ='datafile/varma.txt'\n",
    "        filedata= f.read()\n",
    "        for i in filedata:\n",
    "            size=size+39\n",
    "        print(\"total filesize:\",size,'bytes')\n",
    "filesize(filepath)"
   ]
  },
  {
   "cell_type": "code",
   "execution_count": 40,
   "metadata": {},
   "outputs": [
    {
     "name": "stdout",
     "output_type": "stream",
     "text": [
      "total number ofUniquewordcount: 60\n"
     ]
    }
   ],
   "source": [
    "#word count\n",
    "def Uniquewordcount(filepath):\n",
    "    count =0\n",
    "    with open (filepath,'r') as f:\n",
    "        filepath ='datafile/varma.txt'\n",
    "        filedata= f.read()\n",
    "        for i in filedata:\n",
    "            if i.isspace() == True:\n",
    "                count = count+1\n",
    "        print(\"total number ofUniquewordcount:\",count)\n",
    "Uniquewordcount(filepath)"
   ]
  },
  {
   "cell_type": "code",
   "execution_count": 43,
   "metadata": {},
   "outputs": [
    {
     "ename": "NameError",
     "evalue": "name 'count' is not defined",
     "output_type": "error",
     "traceback": [
      "\u001b[1;31m---------------------------------------------------------------------------\u001b[0m",
      "\u001b[1;31mNameError\u001b[0m                                 Traceback (most recent call last)",
      "\u001b[1;32m<ipython-input-43-df7553134baa>\u001b[0m in \u001b[0;36m<module>\u001b[1;34m\u001b[0m\n\u001b[0;32m      9\u001b[0m                 \u001b[0mcount\u001b[0m \u001b[1;33m=\u001b[0m \u001b[0mcount\u001b[0m\u001b[1;33m+\u001b[0m\u001b[1;36m1\u001b[0m\u001b[1;33m\u001b[0m\u001b[1;33m\u001b[0m\u001b[0m\n\u001b[0;32m     10\u001b[0m         \u001b[0mprint\u001b[0m\u001b[1;33m(\u001b[0m\u001b[1;34m\"total number ofUniquewordcount:\"\u001b[0m\u001b[1;33m,\u001b[0m\u001b[0mcount\u001b[0m\u001b[1;33m)\u001b[0m\u001b[1;33m\u001b[0m\u001b[1;33m\u001b[0m\u001b[0m\n\u001b[1;32m---> 11\u001b[1;33m \u001b[0mUniquewordcount\u001b[0m\u001b[1;33m(\u001b[0m\u001b[0mcount\u001b[0m\u001b[1;33m)\u001b[0m\u001b[1;33m\u001b[0m\u001b[1;33m\u001b[0m\u001b[0m\n\u001b[0m",
      "\u001b[1;31mNameError\u001b[0m: name 'count' is not defined"
     ]
    }
   ],
   "source": [
    "#word count\n",
    "def Uniquewordcount(filepath):\n",
    "    count =0\n",
    "    with open (filepath,'r') as f:\n",
    "        filepath ='datafile/varma.txt'\n",
    "        filedata= f.read()\n",
    "        for i in filedata:\n",
    "            if i == 'is':\n",
    "                count = count+1\n",
    "        print(\"total number ofUniquewordcount:\",count)\n",
    "Uniquewordcount(count)"
   ]
  },
  {
   "cell_type": "code",
   "execution_count": null,
   "metadata": {},
   "outputs": [],
   "source": []
  }
 ],
 "metadata": {
  "kernelspec": {
   "display_name": "Python 3",
   "language": "python",
   "name": "python3"
  },
  "language_info": {
   "codemirror_mode": {
    "name": "ipython",
    "version": 3
   },
   "file_extension": ".py",
   "mimetype": "text/x-python",
   "name": "python",
   "nbconvert_exporter": "python",
   "pygments_lexer": "ipython3",
   "version": "3.7.3"
  }
 },
 "nbformat": 4,
 "nbformat_minor": 2
}
