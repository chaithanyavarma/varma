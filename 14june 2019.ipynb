{
 "cells": [
  {
   "cell_type": "markdown",
   "metadata": {},
   "source": [
    "### Problem Sloving and "
   ]
  },
  {
   "cell_type": "code",
   "execution_count": null,
   "metadata": {},
   "outputs": [],
   "source": []
  },
  {
   "cell_type": "code",
   "execution_count": null,
   "metadata": {},
   "outputs": [],
   "source": []
  },
  {
   "cell_type": "markdown",
   "metadata": {},
   "source": [
    "### Python Data Structure \n",
    "### List\n"
   ]
  },
  {
   "cell_type": "code",
   "execution_count": 37,
   "metadata": {},
   "outputs": [
    {
     "data": {
      "text/plain": [
       "456.0"
      ]
     },
     "execution_count": 37,
     "metadata": {},
     "output_type": "execute_result"
    }
   ],
   "source": [
    "li =[123,978,654]\n",
    "li #Access the entrie list\n",
    "li[1] #Access an element with index in a list \n",
    "li [1:] #Access all element from  second to last element \n",
    "li=li[::-1] #reveseing list elemnets and reasnning to orginal list\n",
    "li \n",
    "li = li[::-1] \n",
    "li[::2] #Accessing even index elemnets\n",
    "li[1::2]\n",
    "\n",
    "#List can be accessed,manipulated in two different ways \n",
    "    # Dierect Referencing -[index]\n",
    "    # Indirect Refencing- through functions\n",
    "\n",
    "li. append(345) # Adding an element to end of the list \n",
    "\n",
    "li. insert (1,234) #Adding an element at a particular\n",
    "\n",
    "li.sort() # sort Elements in assending order \n",
    "li\n",
    "li.pop() # Remove the last element in list \n",
    "li \n",
    "li.pop(1) #Remove an element at particular index\n",
    "li2=[234,456,789]\n",
    "\n",
    "\n",
    "li.extend(li2) # Merge list 2 into list 1\n",
    "\n",
    "sum(li) # Sum of all elemnets in list \n",
    "max(li) # maximum element in list \n",
    "len(li) # Number of elements in a list\n",
    "\n",
    "\n",
    "sum(li)/len(li) # Average of list elemnts\n",
    "\n",
    "\n",
    "sum(li[1::2])/len(li[1::2]) # average of all alternate elements\n",
    "\n",
    "min(li)\n",
    "li\n",
    "max(li)-1\n",
    "try:\n",
    "    li.index\n"
   ]
  },
  {
   "cell_type": "code",
   "execution_count": 46,
   "metadata": {},
   "outputs": [
    {
     "data": {
      "text/plain": [
       "234"
      ]
     },
     "execution_count": 46,
     "metadata": {},
     "output_type": "execute_result"
    }
   ],
   "source": [
    "# Function to identify the second the largest element \n",
    "    # Sort the data nd select the second last element \n",
    "    # Sort the data in  reverse order, and select the \n",
    "    # Remove the max element  and then get the max\n",
    "    # \n",
    "    \n",
    "def secondlargest(li):\n",
    "    li.sort()\n",
    "    return li[-2]\n",
    "        \n",
    "#Function that returns the nth largest  \n",
    "def genericlargest(li,n):\n",
    "        li.sort()\n",
    "        return li[-n]\n",
    "        \n",
    "secondlargest(li)\n",
    "genericlargest(li,5)\n",
    "            "
   ]
  },
  {
   "cell_type": "code",
   "execution_count": 54,
   "metadata": {},
   "outputs": [
    {
     "data": {
      "text/plain": [
       "5"
      ]
     },
     "execution_count": 54,
     "metadata": {},
     "output_type": "execute_result"
    }
   ],
   "source": [
    "#Function to search for data in a list\n",
    "#Search for the key  in the return the index of the \n",
    "\n",
    "def linearsearch (li,key):\n",
    "    for index in range(0,len(li)):\n",
    "        if li[index]==key:\n",
    "            return index\n",
    "    return -1\n",
    "\n",
    "\n",
    "def linearsearch2(li,key):\n",
    "    for element in li:\n",
    "        return li.index(element)\n",
    "    return -1\n",
    "def linearsearch3(li,key):\n",
    "    if key in li:\n",
    "        return li.index (key)\n",
    "    \n",
    "linearsearch3(li,789)\n",
    "        \n",
    "        "
   ]
  },
  {
   "cell_type": "code",
   "execution_count": 59,
   "metadata": {},
   "outputs": [
    {
     "data": {
      "text/plain": [
       "1"
      ]
     },
     "execution_count": 59,
     "metadata": {},
     "output_type": "execute_result"
    }
   ],
   "source": [
    "#Function to count the occurances of charactor in a stream   \n",
    "#\"python programing \", m -> 2 \n",
    " \n",
    "    \n",
    "def countcharoccurances(s,c):\n",
    "    count = 0\n",
    "    for ch in s:\n",
    "        if ch == c:\n",
    "            count +=1\n",
    "    return count\n",
    "\n",
    "def countcharoccurances2(s,c):\n",
    "    return s.count(c)\n",
    "\n",
    "\n",
    "countcharoccurances2(\"python programing\",'py')\n",
    "\n",
    "\n",
    "# Function to find the number of occurances of a stream \n",
    "# \"abcabcdcba\", \"ab\"->2\n"
   ]
  },
  {
   "cell_type": "code",
   "execution_count": 3,
   "metadata": {},
   "outputs": [
    {
     "data": {
      "text/plain": [
       "[1, 2, 3, 4, 5, 6]"
      ]
     },
     "execution_count": 3,
     "metadata": {},
     "output_type": "execute_result"
    }
   ],
   "source": [
    "s= \"1 2 3 4 5 6 \"\n",
    "li =s.split()\n",
    "\n",
    "numberlist =[]\n",
    "for i in li:\n",
    "    numberlist .append(int(i))\n",
    "numberlist"
   ]
  },
  {
   "cell_type": "markdown",
   "metadata": {},
   "source": []
  },
  {
   "cell_type": "code",
   "execution_count": null,
   "metadata": {},
   "outputs": [],
   "source": []
  },
  {
   "cell_type": "code",
   "execution_count": null,
   "metadata": {},
   "outputs": [],
   "source": []
  },
  {
   "cell_type": "code",
   "execution_count": null,
   "metadata": {},
   "outputs": [],
   "source": []
  },
  {
   "cell_type": "code",
   "execution_count": 7,
   "metadata": {},
   "outputs": [
    {
     "name": "stdout",
     "output_type": "stream",
     "text": [
      "3\n",
      "14\n"
     ]
    }
   ],
   "source": [
    "n=int(input())\n",
    "\n",
    "def sumsqurenaturalnumbers(n):\n",
    "    sum =0\n",
    "    for i in range (1,n+1):\n",
    "        sum = sum + i**2\n",
    "    return sum\n",
    "    \n",
    "print(sumsqurenaturalnumbers(n))\n",
    "\n",
    "    \n",
    "        "
   ]
  },
  {
   "cell_type": "code",
   "execution_count": 19,
   "metadata": {},
   "outputs": [
    {
     "ename": "SyntaxError",
     "evalue": "invalid syntax (<ipython-input-19-9842921b2dce>, line 10)",
     "output_type": "error",
     "traceback": [
      "\u001b[1;36m  File \u001b[1;32m\"<ipython-input-19-9842921b2dce>\"\u001b[1;36m, line \u001b[1;32m10\u001b[0m\n\u001b[1;33m    def closestzero(li):\u001b[0m\n\u001b[1;37m      ^\u001b[0m\n\u001b[1;31mSyntaxError\u001b[0m\u001b[1;31m:\u001b[0m invalid syntax\n"
     ]
    }
   ],
   "source": [
    "n= int(input())\n",
    "s=input()\n",
    "s=s.split()\n",
    "#\"12345\"\n",
    "li=[]\n",
    "\n",
    "for i in s:\n",
    "    li.append(abs(int(i))\n",
    "              \n",
    "def closestzero(li):            \n",
    "#separate all numbers less then zero \n",
    "#all numbers greater = zero,get the \n",
    "#-1 2 3-10-20\n",
    "#-1-10-20\n",
    "     \n",
    "min(li)\n"
   ]
  },
  {
   "cell_type": "code",
   "execution_count": null,
   "metadata": {},
   "outputs": [],
   "source": []
  },
  {
   "cell_type": "code",
   "execution_count": null,
   "metadata": {},
   "outputs": [],
   "source": []
  }
 ],
 "metadata": {
  "kernelspec": {
   "display_name": "Python 3",
   "language": "python",
   "name": "python3"
  },
  "language_info": {
   "codemirror_mode": {
    "name": "ipython",
    "version": 3
   },
   "file_extension": ".py",
   "mimetype": "text/x-python",
   "name": "python",
   "nbconvert_exporter": "python",
   "pygments_lexer": "ipython3",
   "version": "3.7.3"
  }
 },
 "nbformat": 4,
 "nbformat_minor": 2
}
