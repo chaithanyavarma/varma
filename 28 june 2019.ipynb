{
 "cells": [
  {
   "cell_type": "code",
   "execution_count": 1,
   "metadata": {},
   "outputs": [],
   "source": [
    "# Print given charters as a word with starting charactor capital form and remining lower"
   ]
  },
  {
   "cell_type": "code",
   "execution_count": 8,
   "metadata": {},
   "outputs": [
    {
     "name": "stdout",
     "output_type": "stream",
     "text": [
      "Apssdc\n"
     ]
    }
   ],
   "source": [
    "s=\"A P S S D C\"\n",
    "d=s.replace(\" \",\"\")\n",
    "# d.lower()\n",
    "t=z.title()\n",
    "print(t)"
   ]
  },
  {
   "cell_type": "code",
   "execution_count": 51,
   "metadata": {},
   "outputs": [
    {
     "name": "stdout",
     "output_type": "stream",
     "text": [
      "M A T T H E W\n",
      "Matthew\n"
     ]
    }
   ],
   "source": [
    "char=input()\n",
    "word = char.split()\n",
    "print(''.join(word).capitalize())\n"
   ]
  },
  {
   "cell_type": "code",
   "execution_count": 45,
   "metadata": {},
   "outputs": [
    {
     "name": "stdout",
     "output_type": "stream",
     "text": [
      "hai hello world\n",
      "hello\n",
      "world\n"
     ]
    }
   ],
   "source": [
    "# Print the maximum length word of given words\n",
    "# Hai hello world\n",
    "s=input().split()\n",
    "for word in s:\n",
    "    if len(max(s)) == len(word):\n",
    "        print(word)\n"
   ]
  },
  {
   "cell_type": "code",
   "execution_count": 52,
   "metadata": {},
   "outputs": [
    {
     "name": "stdout",
     "output_type": "stream",
     "text": [
      "all the fruits are very more\n",
      "fruits\n"
     ]
    }
   ],
   "source": [
    "# Print the maximum length word of given words\n",
    "\n",
    "words=input().split() # [\"hai\",\"hello\",\"world\"]\n",
    "lengths=[]\n",
    "for word in words :\n",
    "    lengths.append(len(word))\n",
    "max_length=max(lengths)\n",
    "for word in words:\n",
    "    if max_length == len(word):\n",
    "        print(word)"
   ]
  },
  {
   "cell_type": "code",
   "execution_count": null,
   "metadata": {},
   "outputs": [],
   "source": [
    "words = input().split()\n",
    "max(list(map(len,words)"
   ]
  },
  {
   "cell_type": "code",
   "execution_count": null,
   "metadata": {},
   "outputs": [],
   "source": [
    "# Print all the words which starts with the given character, If no words matches with the given condition you should print -\n",
    "words=input().split()\n",
    "c=input()\n",
    "match =0\n",
    "for word in words :\n",
    "    if word.startswith(c):\n",
    "        print(word)\n",
    "        match+=1\n",
    "if match==0:\n",
    "        print(-1)\n",
    "\n"
   ]
  },
  {
   "cell_type": "code",
   "execution_count": 59,
   "metadata": {},
   "outputs": [
    {
     "name": "stdout",
     "output_type": "stream",
     "text": [
      "varma\n"
     ]
    },
    {
     "data": {
      "text/plain": [
       "'VARMa'"
      ]
     },
     "execution_count": 59,
     "metadata": {},
     "output_type": "execute_result"
    }
   ],
   "source": [
    "# Swap the case of all characters in given string except last character\n",
    "a= input()\n",
    "a[:-1].swapcase()+word[-1]"
   ]
  },
  {
   "cell_type": "code",
   "execution_count": 60,
   "metadata": {},
   "outputs": [
    {
     "name": "stdout",
     "output_type": "stream",
     "text": [
      "Helloworld\n",
      "1\n",
      "1\n",
      "1\n",
      "1\n",
      "1\n",
      "1\n",
      "1\n",
      "1\n",
      "1\n",
      "1\n"
     ]
    }
   ],
   "source": [
    "word= input()\n",
    "count=0\n",
    "for char in word:\n",
    "    if char.isupper():\n",
    "        count+=1\n",
    "    print(count)\n",
    "        "
   ]
  },
  {
   "cell_type": "code",
   "execution_count": 89,
   "metadata": {},
   "outputs": [
    {
     "name": "stdout",
     "output_type": "stream",
     "text": [
      "ajay cv\n",
      "ajay\n",
      "cv\n"
     ]
    }
   ],
   "source": [
    "names=input().split() # ['ramu','varma','mary']\n",
    "for name in names:\n",
    "    for ch in name:\n",
    "        if name.count(ch)>=1:\n",
    "            print(name)\n",
    "            break\n",
    "    "
   ]
  },
  {
   "cell_type": "code",
   "execution_count": 76,
   "metadata": {},
   "outputs": [
    {
     "data": {
      "text/plain": [
       "[0, 1, 2, 3, 4, 5, 6, 7, 8, 9]"
      ]
     },
     "execution_count": 76,
     "metadata": {},
     "output_type": "execute_result"
    }
   ],
   "source": [
    "li=[i for i in range(10)]\n",
    "li"
   ]
  },
  {
   "cell_type": "code",
   "execution_count": 9,
   "metadata": {},
   "outputs": [
    {
     "data": {
      "text/plain": [
       "[0, 1, 2, 3, 4, 5, 6, 7, 8, 9]"
      ]
     },
     "execution_count": 9,
     "metadata": {},
     "output_type": "execute_result"
    }
   ],
   "source": [
    "li=[]\n",
    "for i in range (10):\n",
    "    li.append(i)\n",
    "li"
   ]
  },
  {
   "cell_type": "code",
   "execution_count": 77,
   "metadata": {},
   "outputs": [
    {
     "data": {
      "text/plain": [
       "[0, 1, 4, 9, 16, 25, 36, 49, 64, 81]"
      ]
     },
     "execution_count": 77,
     "metadata": {},
     "output_type": "execute_result"
    }
   ],
   "source": [
    "li=[i*i for i in range(10)]\n",
    "li"
   ]
  },
  {
   "cell_type": "code",
   "execution_count": 82,
   "metadata": {},
   "outputs": [
    {
     "data": {
      "text/plain": [
       "[0, 5, 10, 15, 20, 25, 30, 35, 40, 45]"
      ]
     },
     "execution_count": 82,
     "metadata": {},
     "output_type": "execute_result"
    }
   ],
   "source": [
    "li=[5*i for i in range(10)]\n",
    "li"
   ]
  },
  {
   "cell_type": "code",
   "execution_count": 84,
   "metadata": {},
   "outputs": [
    {
     "data": {
      "text/plain": [
       "[5, 10, 15, 20, 25, 30, 35, 40, 45, 50]"
      ]
     },
     "execution_count": 84,
     "metadata": {},
     "output_type": "execute_result"
    }
   ],
   "source": [
    "li=[5*i for i in range(1,11)]\n",
    "li"
   ]
  },
  {
   "cell_type": "code",
   "execution_count": 102,
   "metadata": {},
   "outputs": [
    {
     "name": "stdout",
     "output_type": "stream",
     "text": [
      "[0, 2, 4, 6, 8]\n"
     ]
    }
   ],
   "source": [
    "li=[i for i in range(0,10,2)]\n",
    "print(li)"
   ]
  },
  {
   "cell_type": "code",
   "execution_count": 107,
   "metadata": {},
   "outputs": [
    {
     "name": "stdout",
     "output_type": "stream",
     "text": [
      "5 1 5\n",
      "10 2 5\n",
      "15 3 5\n",
      "20 4 5\n",
      "25 5 5\n",
      "30 6 5\n",
      "35 7 5\n",
      "40 8 5\n",
      "45 9 5\n",
      "50 10 5\n",
      "55 11 5\n",
      "60 12 5\n",
      "65 13 5\n",
      "70 14 5\n",
      "75 15 5\n"
     ]
    }
   ],
   "source": [
    "n=5\n",
    "for i in range (1,15+1):\n",
    "    a=5*i\n",
    "    print(a,i,n)"
   ]
  },
  {
   "cell_type": "code",
   "execution_count": 108,
   "metadata": {},
   "outputs": [
    {
     "name": "stdout",
     "output_type": "stream",
     "text": [
      "SDC\n"
     ]
    },
    {
     "data": {
      "text/plain": [
       "['s', 'd', 'c']"
      ]
     },
     "execution_count": 108,
     "metadata": {},
     "output_type": "execute_result"
    }
   ],
   "source": [
    "s= input()\n",
    "li=[ch.lower() for  ch in s]\n",
    "li\n"
   ]
  },
  {
   "cell_type": "code",
   "execution_count": 3,
   "metadata": {},
   "outputs": [
    {
     "name": "stdout",
     "output_type": "stream",
     "text": [
      "hello\n",
      "2\n",
      "hellohello\n"
     ]
    }
   ],
   "source": [
    "b=str(input())\n",
    "n=int(input())\n",
    "print(b*n)"
   ]
  },
  {
   "cell_type": "code",
   "execution_count": 8,
   "metadata": {},
   "outputs": [
    {
     "name": "stdout",
     "output_type": "stream",
     "text": [
      "100 200 300 5 10 4000\n",
      "600\n"
     ]
    }
   ],
   "source": [
    "print(sum(list(map(int,list(filter(lambda x:len(x)==3,input().split()))))))"
   ]
  },
  {
   "cell_type": "code",
   "execution_count": 14,
   "metadata": {},
   "outputs": [
    {
     "name": "stdout",
     "output_type": "stream",
     "text": [
      "123\n",
      "123\n"
     ]
    }
   ],
   "source": [
    "print(sum ([int(num) for num in input().split() if len(num)==3]))"
   ]
  },
  {
   "cell_type": "markdown",
   "metadata": {},
   "source": [
    "#### [item loop conition]"
   ]
  },
  {
   "cell_type": "code",
   "execution_count": 22,
   "metadata": {},
   "outputs": [
    {
     "name": "stdout",
     "output_type": "stream",
     "text": [
      "410\n",
      "Great!\n"
     ]
    }
   ],
   "source": [
    "a = int (input())\n",
    "# value 400 to 500 # greate\n",
    "# otherwise u need to improve\n",
    "if  a>399 and a<501:\n",
    "    print('Great!')\n",
    "else:\n",
    "    print('u need 2 improve')"
   ]
  },
  {
   "cell_type": "code",
   "execution_count": 24,
   "metadata": {},
   "outputs": [
    {
     "name": "stdout",
     "output_type": "stream",
     "text": [
      "hello\n"
     ]
    }
   ],
   "source": [
    "a=True\n",
    "if not a:\n",
    "    print('hi')\n",
    "else:\n",
    "    print('hello')"
   ]
  },
  {
   "cell_type": "markdown",
   "metadata": {},
   "source": [
    "#### given all numbers 1 to 100 and the number divisable with 2 and 7"
   ]
  },
  {
   "cell_type": "code",
   "execution_count": 30,
   "metadata": {},
   "outputs": [],
   "source": []
  },
  {
   "cell_type": "code",
   "execution_count": 29,
   "metadata": {},
   "outputs": [
    {
     "name": "stdout",
     "output_type": "stream",
     "text": [
      "14\n",
      "28\n",
      "42\n",
      "56\n",
      "70\n",
      "84\n",
      "98\n"
     ]
    }
   ],
   "source": [
    "# given all numbers 1 to 100 and the number divisable with 2 and 7\n",
    "# i =int(input)\n",
    "for i in range(1,101):\n",
    "    if i%2==0 and i%7==0:\n",
    "        print(i)"
   ]
  },
  {
   "cell_type": "code",
   "execution_count": 35,
   "metadata": {},
   "outputs": [
    {
     "name": "stdout",
     "output_type": "stream",
     "text": [
      "[1, 1, 1, 1, 1, 1, 1, 1, 1, 1]\n"
     ]
    }
   ],
   "source": [
    "numbers =[1 for each in range(10)]\n",
    "print(numbers)"
   ]
  },
  {
   "cell_type": "code",
   "execution_count": 37,
   "metadata": {},
   "outputs": [
    {
     "name": "stdout",
     "output_type": "stream",
     "text": [
      "[1, 2, 3, 4, 5, 6, 7, 8, 9, 10]\n"
     ]
    }
   ],
   "source": [
    "numbers =[each for each in range(1,11)]\n",
    "print(numbers)"
   ]
  },
  {
   "cell_type": "code",
   "execution_count": 44,
   "metadata": {},
   "outputs": [
    {
     "name": "stdout",
     "output_type": "stream",
     "text": [
      "10\n",
      "[2, 4, 6, 8]\n"
     ]
    }
   ],
   "source": [
    "numbers =[each for each in range(1,int(input()))if each%2==0]\n",
    "print(numbers)"
   ]
  },
  {
   "cell_type": "code",
   "execution_count": 3,
   "metadata": {},
   "outputs": [
    {
     "name": "stdout",
     "output_type": "stream",
     "text": [
      "{'Akhila': 456, 'varma': 100, 'hannah': 150}\n"
     ]
    }
   ],
   "source": [
    "student_marks = [('Akhila',[56,350,50]),('varma',[10,30,60]),('hannah',[40,50,60])]\n",
    "students_dict={}\n",
    "for student in student_marks:\n",
    "    name= student[0]\n",
    "    marks=sum(student[1])\n",
    "    students_dict[name]=marks\n",
    "\n",
    "\n",
    "\n",
    "print(students_dict)"
   ]
  },
  {
   "cell_type": "code",
   "execution_count": null,
   "metadata": {},
   "outputs": [],
   "source": []
  }
 ],
 "metadata": {
  "kernelspec": {
   "display_name": "Python 3",
   "language": "python",
   "name": "python3"
  },
  "language_info": {
   "codemirror_mode": {
    "name": "ipython",
    "version": 3
   },
   "file_extension": ".py",
   "mimetype": "text/x-python",
   "name": "python",
   "nbconvert_exporter": "python",
   "pygments_lexer": "ipython3",
   "version": "3.7.3"
  }
 },
 "nbformat": 4,
 "nbformat_minor": 2
}
