{
 "cells": [
  {
   "cell_type": "code",
   "execution_count": null,
   "metadata": {},
   "outputs": [],
   "source": []
  },
  {
   "cell_type": "markdown",
   "metadata": {},
   "source": [
    "### Regular Exprissions\n",
    "\n",
    "\n",
    "- Pattern Matching\n",
    "- Symbolic Notation of a pattern \n",
    "    - Pattern : Format which repeats\n",
    "    - Pattern (RE) represnts The set of all  values that pattern\n",
    "- [0-9]  -> Any digit  \n",
    "- [a-z]  -> Any lower alphabet\n",
    "- [2468] -> All single  multiples of 2\n",
    "    [8642] \n",
    "    [6824]\n",
    "    [0-9] {1}$m -> Only single digit numbers \n",
    "- ^ [0-9] {3}$-> Only 3 digit numbers\n",
    "-  [0-9]*0$ -> All multiples of 10\n",
    "- ^[1-9][0-9]*[05]$ ->All muliples of 10\n",
    "- -> All \n",
    "-          -> All 10 digit numbers\n",
    "           -> Validating Phone number (India)(start with 9876 followed by 9 digits)\n",
    "-> Email Validation (username@domain.extension)\n",
    "    - Username,\n",
    "        -Length of username : [6,15] \n",
    "        - No special characters other  _.\n",
    "        - Should not begin and end with _.\n",
    "        - Character Set : all digits and alphabet  \n",
    "    - domain\n",
    "        - Length of doamain : [3,18]\n",
    "        - No special characters\n",
    "        - Character Set : all digits and alphabet\n",
    "    - extension\n",
    "        -Length of extension : [2, 4]\n",
    "        -No special characters\n",
    "        -Character Set : alphbet\n",
    "- ^[a].*[z]$ -> Any string of length 5 that starts with  'a' and ends           \n",
    "- ^[a].*[z]$ -> Any length             \n",
    "   \n",
    "                \n",
    "\n",
    "    "
   ]
  },
  {
   "cell_type": "code",
   "execution_count": 2,
   "metadata": {},
   "outputs": [
    {
     "ename": "SyntaxError",
     "evalue": "invalid syntax (<ipython-input-2-daba9c2e7976>, line 1)",
     "output_type": "error",
     "traceback": [
      "\u001b[1;36m  File \u001b[1;32m\"<ipython-input-2-daba9c2e7976>\"\u001b[1;36m, line \u001b[1;32m1\u001b[0m\n\u001b[1;33m    ^[a-z0-9.]{6,20}[@][1-9a-z]{3,18}[.][a-z]{2,4}$\u001b[0m\n\u001b[1;37m    ^\u001b[0m\n\u001b[1;31mSyntaxError\u001b[0m\u001b[1;31m:\u001b[0m invalid syntax\n"
     ]
    }
   ],
   "source": [
    "^[a-z0-9.]{6,20}[@][1-9a-z]{3,18}[.][a-z]{2,4}$"
   ]
  },
  {
   "cell_type": "code",
   "execution_count": null,
   "metadata": {},
   "outputs": [],
   "source": []
  },
  {
   "cell_type": "code",
   "execution_count": 13,
   "metadata": {},
   "outputs": [
    {
     "name": "stdout",
     "output_type": "stream",
     "text": [
      "valid number\n"
     ]
    }
   ],
   "source": [
    "# Function to valdiate a phone number \n",
    "import re \n",
    "def phonenumbervalidator(number):\n",
    "    pattern = '^[6-9][0-9]{9}$|^[0][6-9][0-9]{9}$'\n",
    "    if re.match(pattern, str (number)):\n",
    "        print(\"valid number\")\n",
    "    else:\n",
    "        print(\"invalid number\")\n",
    "        \n",
    "phonenumbervalidator(9078985690)"
   ]
  },
  {
   "cell_type": "code",
   "execution_count": 14,
   "metadata": {},
   "outputs": [],
   "source": [
    "def searchcontacts(name):\n",
    "    if name in contacts :\n",
    "        print(name)\n",
    "        print(\"phone::\",contacts [name][0])\n",
    "        print(\"email:\",contacts [contacts[name][1] )"
   ]
  },
  {
   "cell_type": "code",
   "execution_count": 15,
   "metadata": {},
   "outputs": [
    {
     "ename": "NameError",
     "evalue": "name 'contacts' is not defined",
     "output_type": "error",
     "traceback": [
      "\u001b[1;31m---------------------------------------------------------------------------\u001b[0m",
      "\u001b[1;31mNameError\u001b[0m                                 Traceback (most recent call last)",
      "\u001b[1;32m<ipython-input-15-25a923cf5305>\u001b[0m in \u001b[0;36m<module>\u001b[1;34m\u001b[0m\n\u001b[0;32m      5\u001b[0m         \u001b[0mprint\u001b[0m\u001b[1;33m(\u001b[0m\u001b[0mcontact\u001b[0m\u001b[1;33m,\u001b[0m\u001b[1;34m\"\\n\"\u001b[0m\u001b[1;33m,\u001b[0m\u001b[1;34m\"phone:\"\u001b[0m\u001b[1;33m,\u001b[0m\u001b[0minf\u001b[0m\u001b[1;33m[\u001b[0m\u001b[1;36m0\u001b[0m\u001b[1;33m]\u001b[0m\u001b[1;33m,\u001b[0m\u001b[1;34m\"\\n\"\u001b[0m\u001b[1;33m,\u001b[0m\u001b[1;34m\"Email:\"\u001b[0m\u001b[1;33m,\u001b[0m\u001b[0minfo\u001b[0m\u001b[1;33m[\u001b[0m\u001b[1;36m1\u001b[0m\u001b[1;33m]\u001b[0m\u001b[1;33m)\u001b[0m\u001b[1;33m\u001b[0m\u001b[1;33m\u001b[0m\u001b[0m\n\u001b[0;32m      6\u001b[0m         \u001b[1;32mreturn\u001b[0m\u001b[1;33m\u001b[0m\u001b[1;33m\u001b[0m\u001b[0m\n\u001b[1;32m----> 7\u001b[1;33m \u001b[0mlistallcontacts\u001b[0m\u001b[1;33m(\u001b[0m\u001b[1;33m)\u001b[0m\u001b[1;33m\u001b[0m\u001b[1;33m\u001b[0m\u001b[0m\n\u001b[0m\u001b[0;32m      8\u001b[0m \u001b[1;33m\u001b[0m\u001b[0m\n",
      "\u001b[1;32m<ipython-input-15-25a923cf5305>\u001b[0m in \u001b[0;36mlistallcontacts\u001b[1;34m()\u001b[0m\n\u001b[0;32m      2\u001b[0m \u001b[1;33m\u001b[0m\u001b[0m\n\u001b[0;32m      3\u001b[0m \u001b[1;32mdef\u001b[0m \u001b[0mlistallcontacts\u001b[0m\u001b[1;33m(\u001b[0m\u001b[1;33m)\u001b[0m\u001b[1;33m:\u001b[0m\u001b[1;33m\u001b[0m\u001b[1;33m\u001b[0m\u001b[0m\n\u001b[1;32m----> 4\u001b[1;33m     \u001b[1;32mfor\u001b[0m \u001b[0mcontact\u001b[0m\u001b[1;33m,\u001b[0m\u001b[0minfo\u001b[0m \u001b[1;32min\u001b[0m \u001b[0mcontacts\u001b[0m\u001b[1;33m.\u001b[0m\u001b[0mitems\u001b[0m\u001b[1;33m(\u001b[0m\u001b[1;33m)\u001b[0m\u001b[1;33m:\u001b[0m\u001b[1;33m\u001b[0m\u001b[1;33m\u001b[0m\u001b[0m\n\u001b[0m\u001b[0;32m      5\u001b[0m         \u001b[0mprint\u001b[0m\u001b[1;33m(\u001b[0m\u001b[0mcontact\u001b[0m\u001b[1;33m,\u001b[0m\u001b[1;34m\"\\n\"\u001b[0m\u001b[1;33m,\u001b[0m\u001b[1;34m\"phone:\"\u001b[0m\u001b[1;33m,\u001b[0m\u001b[0minf\u001b[0m\u001b[1;33m[\u001b[0m\u001b[1;36m0\u001b[0m\u001b[1;33m]\u001b[0m\u001b[1;33m,\u001b[0m\u001b[1;34m\"\\n\"\u001b[0m\u001b[1;33m,\u001b[0m\u001b[1;34m\"Email:\"\u001b[0m\u001b[1;33m,\u001b[0m\u001b[0minfo\u001b[0m\u001b[1;33m[\u001b[0m\u001b[1;36m1\u001b[0m\u001b[1;33m]\u001b[0m\u001b[1;33m)\u001b[0m\u001b[1;33m\u001b[0m\u001b[1;33m\u001b[0m\u001b[0m\n\u001b[0;32m      6\u001b[0m         \u001b[1;32mreturn\u001b[0m\u001b[1;33m\u001b[0m\u001b[1;33m\u001b[0m\u001b[0m\n",
      "\u001b[1;31mNameError\u001b[0m: name 'contacts' is not defined"
     ]
    }
   ],
   "source": [
    "# Function to list all contacts \n",
    "\n",
    "def listallcontacts():\n",
    "    for contact,info in contacts.items():\n",
    "        print(contact,\"\\n\",\"phone:\",inf[0],\"\\n\",\"Email:\",info[1])\n",
    "        return\n",
    "listallcontacts()\n",
    "        \n"
   ]
  },
  {
   "cell_type": "code",
   "execution_count": 16,
   "metadata": {},
   "outputs": [],
   "source": [
    "# Function to edit contact information \n",
    "#def editcontact(name,phone,email):\n",
    "    \n",
    "    \n",
    "\n"
   ]
  },
  {
   "cell_type": "markdown",
   "metadata": {},
   "source": [
    "####  File handling in Python\n",
    "\n",
    "File - Document containing information residing on the permanent storage \n",
    "Types - Text,PDF,CSV,etc\n",
    "\n",
    "File I/O - Channeling I/O data to files\n",
    "\n",
    "Default I/O channels - Keyboards / Screen\n",
    "\n",
    "Change I/O channel to files for Reading and writing \n",
    "\n",
    "Read a file - Input from file \n",
    "\n",
    "Write to file - Output to a file\n",
    "\n",
    "Read / write a file- open(filename,mode)\n",
    "\n",
    "\n",
    "\n",
    "\n",
    "\n",
    "\n",
    "\n"
   ]
  },
  {
   "cell_type": "code",
   "execution_count": 18,
   "metadata": {},
   "outputs": [
    {
     "name": "stdout",
     "output_type": "stream",
     "text": [
      "nani\n"
     ]
    },
    {
     "data": {
      "text/plain": [
       "'nani'"
      ]
     },
     "execution_count": 18,
     "metadata": {},
     "output_type": "execute_result"
    }
   ],
   "source": [
    "s =input()\n",
    "s"
   ]
  },
  {
   "cell_type": "code",
   "execution_count": 21,
   "metadata": {},
   "outputs": [
    {
     "data": {
      "text/plain": [
       "'line1\\nLine2\\nLine3'"
      ]
     },
     "execution_count": 21,
     "metadata": {},
     "output_type": "execute_result"
    }
   ],
   "source": [
    "# Function to read file\n",
    "\n",
    "def readfile(filename):\n",
    "    f=open(filename,'r')\n",
    "    filedata = f.read()\n",
    "    f.close ()\n",
    "    return filedata\n",
    "\n",
    "filename = 'Datafiles/data.txt'\n",
    "readfile(filename)"
   ]
  },
  {
   "cell_type": "code",
   "execution_count": 22,
   "metadata": {},
   "outputs": [
    {
     "data": {
      "text/plain": [
       "['line1', 'Line2', 'Line3']"
      ]
     },
     "execution_count": 22,
     "metadata": {},
     "output_type": "execute_result"
    }
   ],
   "source": [
    "# Function to read file\n",
    "\n",
    "def readfile(filename):\n",
    "    f=open(filename,'r')\n",
    "    filedata = f.read()\n",
    "    f.close ()\n",
    "    return filedata\n",
    "\n",
    "filename = 'Datafiles/data.txt'\n",
    "readfile(filename).split('\\n')"
   ]
  },
  {
   "cell_type": "code",
   "execution_count": 24,
   "metadata": {},
   "outputs": [
    {
     "name": "stdout",
     "output_type": "stream",
     "text": [
      "line1\n",
      "Line2\n",
      "Line3\n"
     ]
    }
   ],
   "source": [
    "# Function to read file\n",
    "\n",
    "def readfile(filename):\n",
    "    f=open(filename,'r')\n",
    "    filedata = f.read()\n",
    "    f.close ()\n",
    "    return filedata\n",
    "\n",
    "filename = 'Datafiles/data.txt'\n",
    "for line in readfile(filename).split('\\n'):\n",
    "    print(line)"
   ]
  },
  {
   "cell_type": "code",
   "execution_count": 30,
   "metadata": {},
   "outputs": [
    {
     "name": "stdout",
     "output_type": "stream",
     "text": [
      "Datafiles/data.txt\n",
      "line1\n",
      "\n",
      "Line2\n",
      "\n",
      "Line3\n",
      "line1\n",
      "Line2\n",
      "Line3\n"
     ]
    }
   ],
   "source": [
    "# Function to read file\n",
    "\n",
    "def readfile(filename):\n",
    "    f=open(filename,'r')\n",
    "    filedata = f.read()\n",
    "    f.close ()\n",
    "    return filedata\n",
    "\n",
    "filename = 'Datafiles/data.txt'\n",
    "for line in filename.split('\\n'):\n",
    "    print(line)\n",
    "    \n",
    "def printfiledatalines(filename):\n",
    "    f = open(filename,'r')\n",
    "    for line in f:\n",
    "        print(line)\n",
    "    return\n",
    "printfiledatalines(filename)\n",
    "print(readfile(filename))\n"
   ]
  },
  {
   "cell_type": "code",
   "execution_count": 31,
   "metadata": {},
   "outputs": [
    {
     "ename": "IndentationError",
     "evalue": "expected an indented block (<ipython-input-31-8e5d06a61b4c>, line 15)",
     "output_type": "error",
     "traceback": [
      "\u001b[1;36m  File \u001b[1;32m\"<ipython-input-31-8e5d06a61b4c>\"\u001b[1;36m, line \u001b[1;32m15\u001b[0m\n\u001b[1;33m    for line in f:\u001b[0m\n\u001b[1;37m      ^\u001b[0m\n\u001b[1;31mIndentationError\u001b[0m\u001b[1;31m:\u001b[0m expected an indented block\n"
     ]
    }
   ],
   "source": [
    "# Function to read file\n",
    "\n",
    "def readfile(filename):\n",
    "    f=open(filename,'r')\n",
    "    filedata = f.read()\n",
    "    f.close ()\n",
    "    return filedata\n",
    "\n",
    "filename = 'Datafiles/data.txt'\n",
    "for line in filename.split('\\n'):\n",
    "    print(line)\n",
    "    \n",
    "def printfiledatalines(filename):\n",
    "    with open(filename,'r') as f:\n",
    "    for line in f:\n",
    "        print(line)\n",
    "    return\n",
    "printfiledatalines(filename)\n",
    "print(readfile(filename))\n"
   ]
  },
  {
   "cell_type": "code",
   "execution_count": 40,
   "metadata": {},
   "outputs": [
    {
     "name": "stdout",
     "output_type": "stream",
     "text": [
      "line1\n",
      "line1\n",
      "Line2\n",
      "Line3\n"
     ]
    }
   ],
   "source": [
    "def printfiledatalines(filename):\n",
    "    with open(filename,'r') as f:\n",
    "        for line in f:\n",
    "            print(line,end='')\n",
    "            return\n",
    "printfiledatalines(filename)\n",
    "print(readfile(filename))"
   ]
  },
  {
   "cell_type": "code",
   "execution_count": 41,
   "metadata": {},
   "outputs": [],
   "source": [
    "# Function to write into a file\n",
    "\n",
    "def  writeintofile(filename,filedata):\n",
    "    with open (filename,'w') as f:\n",
    "        f. write(filedata)\n",
    "    return \n",
    "filename='datafiles/data.txt'\n",
    "writeintofile(filename,\"new data\")\n",
    "    "
   ]
  },
  {
   "cell_type": "code",
   "execution_count": 42,
   "metadata": {},
   "outputs": [],
   "source": [
    "# Function to append data to a file \n",
    "def appenddatatofile(filename,filedata):\n",
    "    with open(filename,'a') as f:\n",
    "        f.write(filedata)\n",
    "    return\n",
    "filedata = \"line2\\nLine3\"\n",
    "appenddatatofile(filename,filedata)"
   ]
  },
  {
   "cell_type": "code",
   "execution_count": 46,
   "metadata": {},
   "outputs": [
    {
     "ename": "IndentationError",
     "evalue": "expected an indented block (<ipython-input-46-8f1fc49038d6>, line 5)",
     "output_type": "error",
     "traceback": [
      "\u001b[1;36m  File \u001b[1;32m\"<ipython-input-46-8f1fc49038d6>\"\u001b[1;36m, line \u001b[1;32m5\u001b[0m\n\u001b[1;33m    f.writelines(filedata)\u001b[0m\n\u001b[1;37m    ^\u001b[0m\n\u001b[1;31mIndentationError\u001b[0m\u001b[1;31m:\u001b[0m expected an indented block\n"
     ]
    }
   ],
   "source": [
    "# Function to append data to a file \n",
    "def appenddatatofile(filename,filedata):\n",
    "    with open(filename,'a') as f:\n",
    "        for line in filedata:\n",
    "        f.writelines(filedata)\n",
    "    return\n",
    "filedata = [\"line4\",\"line5\"]\n",
    "appenddatatofile(filename,filedata)"
   ]
  },
  {
   "cell_type": "code",
   "execution_count": null,
   "metadata": {},
   "outputs": [],
   "source": []
  }
 ],
 "metadata": {
  "kernelspec": {
   "display_name": "Python 3",
   "language": "python",
   "name": "python3"
  },
  "language_info": {
   "codemirror_mode": {
    "name": "ipython",
    "version": 3
   },
   "file_extension": ".py",
   "mimetype": "text/x-python",
   "name": "python",
   "nbconvert_exporter": "python",
   "pygments_lexer": "ipython3",
   "version": "3.7.3"
  }
 },
 "nbformat": 4,
 "nbformat_minor": 2
}
