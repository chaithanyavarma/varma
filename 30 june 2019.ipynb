{
 "cells": [
  {
   "cell_type": "code",
   "execution_count": 5,
   "metadata": {},
   "outputs": [
    {
     "name": "stdout",
     "output_type": "stream",
     "text": [
      "{'Akhila': 456, 'varma': 100, 'hannah': 150}\n"
     ]
    }
   ],
   "source": [
    "student_marks = [('Akhila',[56,350,50]),('varma',[10,30,60]),('hannah',[40,50,60])]\n",
    "students_dict={}\n",
    "for student in student_marks:\n",
    "    name= student[0]\n",
    "    marks=sum(student[1])\n",
    "    students_dict[name]=marks\n",
    "\n",
    "\n",
    "\n",
    "print(students_dict)"
   ]
  },
  {
   "cell_type": "code",
   "execution_count": 10,
   "metadata": {},
   "outputs": [
    {
     "name": "stdout",
     "output_type": "stream",
     "text": [
      "{'Akhila': 456, 'varma': 456, 'hannah': 150}\n"
     ]
    }
   ],
   "source": [
    "student_marks = [('Akhila',[56,350,50]),('varma',[56,350,50]),('hannah',[40,50,60])]\n",
    "students_dict={}\n",
    "for student in student_marks:\n",
    "    name= student[0]\n",
    "    marks=sum(student[1])\n",
    "    students_dict[name]=marks\n",
    "\n",
    "\n",
    "\n",
    "print(students_dict)"
   ]
  },
  {
   "cell_type": "code",
   "execution_count": 8,
   "metadata": {},
   "outputs": [
    {
     "name": "stdout",
     "output_type": "stream",
     "text": [
      "456\n"
     ]
    }
   ],
   "source": [
    "all_marks = students_dict.values()\n",
    "max_marks = max(all_marks)\n",
    "print(max_marks)"
   ]
  },
  {
   "cell_type": "code",
   "execution_count": 11,
   "metadata": {},
   "outputs": [
    {
     "name": "stdout",
     "output_type": "stream",
     "text": [
      "Akhila 456\n",
      "varma 456\n"
     ]
    }
   ],
   "source": [
    "all_marks = students_dict.values()\n",
    "max_marks = max(all_marks) \n",
    "for name in students_dict:\n",
    "    marks = students_dict[name]\n",
    "    if marks == max_marks:\n",
    "        print(name,marks)"
   ]
  },
  {
   "cell_type": "code",
   "execution_count": 13,
   "metadata": {},
   "outputs": [
    {
     "name": "stdout",
     "output_type": "stream",
     "text": [
      "{}\n"
     ]
    }
   ],
   "source": [
    "# find the heigest frequency of websites and if multiple website has same frequency reprasent in alphbet order \n",
    "Links= ['www.google.com',\n",
    "        'www.gmail.com',\n",
    "        'www.gmail.com',\n",
    "        'www.eenadu.net',\n",
    "        'www.google.com']         \n",
    "\n",
    "\n",
    "     \n",
    "result={}\n",
    "print(result)"
   ]
  },
  {
   "cell_type": "code",
   "execution_count": null,
   "metadata": {},
   "outputs": [],
   "source": []
  }
 ],
 "metadata": {
  "kernelspec": {
   "display_name": "Python 3",
   "language": "python",
   "name": "python3"
  },
  "language_info": {
   "codemirror_mode": {
    "name": "ipython",
    "version": 3
   },
   "file_extension": ".py",
   "mimetype": "text/x-python",
   "name": "python",
   "nbconvert_exporter": "python",
   "pygments_lexer": "ipython3",
   "version": "3.7.3"
  }
 },
 "nbformat": 4,
 "nbformat_minor": 2
}
