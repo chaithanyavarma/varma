{
 "cells": [
  {
   "cell_type": "markdown",
   "metadata": {},
   "source": [
    "# Problem Solving and Programing\n",
    "### Date 12 june 2019\n",
    "#### Day Objectives\n",
    "- String Slicing\n",
    "- Function in python \n",
    "- Basic Problem related to conditional statements using functions\n",
    "- Iteration in python \n",
    "- Python data structure-List,tuples and dictionaries\n",
    "- Basic operations on data structures\n",
    "- Applying data structure to solve problems "
   ]
  },
  {
   "cell_type": "code",
   "execution_count": null,
   "metadata": {},
   "outputs": [],
   "source": []
  },
  {
   "cell_type": "markdown",
   "metadata": {},
   "source": [
    "### String Sliceing"
   ]
  },
  {
   "cell_type": "code",
   "execution_count": 46,
   "metadata": {},
   "outputs": [
    {
     "data": {
      "text/plain": [
       "'nohtyP'"
      ]
     },
     "execution_count": 46,
     "metadata": {},
     "output_type": "execute_result"
    }
   ],
   "source": [
    "s1=\"Python\"\n",
    "\n",
    "s1[0] # accessing the fiirst cahrctor in string\n",
    "s1[1] # acceing the secnond charctor in as string\n",
    "s1[len(s1)-1] #last charctor  in a string\n",
    "s1[-1] #another way accesing the last charactor of \n",
    "\n",
    "s1[-2] # Accessing the first two charactor in string \n",
    "\n",
    "s1[0:2] #Accessing the last two charactors in a string\n",
    "s1[-2:] #Accessing the last two charactors in string\n",
    "s1[4:] # Accessing all characters 5th  character to end string \n",
    "\n",
    "s1[1:-1]#Accesing all charaters expect  first and last charactor\n",
    "\n",
    "s1[len(s1)//2]#accessing the middle character odd and even  in string\n",
    "s1[-1:] # reverse of string  \n",
    "s1[1:0] #\n",
    "s1[-1:0:-1] #\n",
    "\n",
    "s1[-1:3:-1]#access last two charactor in revrse order \n",
    "s1[len (s1)//2:len(s1)//2-2:-1] # reverse the middle two characters in asn even length string\n",
    "\n",
    "\n",
    "#accessing alternate charcters of string in reverse string \n",
    "# \"Python\"-> \"nhy\"\n",
    "s1[::2]\n",
    "s1[::-2]\n",
    "s1[::-1]"
   ]
  },
  {
   "cell_type": "markdown",
   "metadata": {},
   "source": []
  },
  {
   "cell_type": "code",
   "execution_count": null,
   "metadata": {},
   "outputs": [],
   "source": []
  },
  {
   "cell_type": "markdown",
   "metadata": {},
   "source": [
    "### Functions"
   ]
  },
  {
   "cell_type": "code",
   "execution_count": 49,
   "metadata": {},
   "outputs": [
    {
     "data": {
      "text/plain": [
       "'nohtyp'"
      ]
     },
     "execution_count": 49,
     "metadata": {},
     "output_type": "execute_result"
    }
   ],
   "source": [
    "# Function to revrse a string \n",
    "def reverseString (s):\n",
    "    return s[::-1]\n",
    "reverseString(\"python\")\n"
   ]
  },
  {
   "cell_type": "code",
   "execution_count": 59,
   "metadata": {},
   "outputs": [
    {
     "data": {
      "text/plain": [
       "False"
      ]
     },
     "execution_count": 59,
     "metadata": {},
     "output_type": "execute_result"
    }
   ],
   "source": [
    "#Function to check if string is palindrome\n",
    "def palindrome (s):\n",
    "    if s == s[::-1]:\n",
    "        return True\n",
    "    else:\n",
    "        return False\n",
    "palindrome (\"python\")\n",
    "palindrome('123')\n",
    "        \n",
    "    \n",
    "    "
   ]
  },
  {
   "cell_type": "code",
   "execution_count": 71,
   "metadata": {},
   "outputs": [
    {
     "data": {
      "text/plain": [
       "True"
      ]
     },
     "execution_count": 71,
     "metadata": {},
     "output_type": "execute_result"
    }
   ],
   "source": [
    "#function to check if a given leap year\n",
    "def isLeapYear(year):\n",
    "    if year % 400 == 0 or (year % 100 !=0 and year %4 == 0):\n",
    "        return True\n",
    "    else:\n",
    "        return False\n",
    "isLeapYear(2020)\n",
    "\n"
   ]
  },
  {
   "cell_type": "code",
   "execution_count": 83,
   "metadata": {},
   "outputs": [
    {
     "data": {
      "text/plain": [
       "5"
      ]
     },
     "execution_count": 83,
     "metadata": {},
     "output_type": "execute_result"
    }
   ],
   "source": [
    "# function to unit the number of digits in a given number of digits in a given \n",
    "def digitnumbers(n):\n",
    "    return  len(n)\n",
    "digitnumbers(\"ranga\")"
   ]
  },
  {
   "cell_type": "code",
   "execution_count": 78,
   "metadata": {},
   "outputs": [
    {
     "name": "stdout",
     "output_type": "stream",
     "text": [
      "n1 is greatest 10\n"
     ]
    }
   ],
   "source": [
    "#function to identify the greatest of 4 numbers \n",
    "def greatest(n1,n2,n3,n4):\n",
    "    if n1>n2 and n1>n3 and n1>n4:\n",
    "        print(\"n1 is greatest \"+str(n1))\n",
    "    elif n2>n3 and n2>n4:\n",
    "        print(\"n2 is greatest \"+str(n2))\n",
    "    elif n3>n4:\n",
    "        print(\"n3 is greatest \"+str(n3))\n",
    "    else:\n",
    "        print(\"n4 is greatest \"+str(n4))\n",
    "        \n",
    "greatest (10,6,5,9)\n",
    "                \n",
    "                "
   ]
  },
  {
   "cell_type": "code",
   "execution_count": null,
   "metadata": {},
   "outputs": [],
   "source": []
  },
  {
   "cell_type": "markdown",
   "metadata": {},
   "source": [
    "### iteration\n",
    "- for\n",
    "- while\n",
    "\n",
    "###### For Loop in Python\n",
    "\n",
    "[lb,ub]\n",
    "\n",
    "for number in  range (lb,ub+1)\n",
    "    print number\n",
    " o/p :-\n",
    " \n",
    " 101\n",
    " 102\n",
    " .\n",
    " .\n",
    " .\n",
    " .\n",
    " .\n",
    " 210\n"
   ]
  },
  {
   "cell_type": "code",
   "execution_count": 92,
   "metadata": {},
   "outputs": [
    {
     "name": "stdout",
     "output_type": "stream",
     "text": [
      "1 2 3 4 5 6 7 8 9 10 11 12 13 14 15 16 17 18 19 20 21 22 23 24 25 26 27 28 29 30 \n",
      "1 2 3 4 5 6 7 8 9 10 \n"
     ]
    }
   ],
   "source": [
    "# Function to print n natural numbers\n",
    "def printnnaturalnumbers(n):\n",
    "    for counter in range (1, n+1):\n",
    "        print(counter,end=\" \")\n",
    "    print()\n",
    "    return\n",
    "printnnaturalnumbers(30)\n",
    "printnnaturalnumbers(10)"
   ]
  },
  {
   "cell_type": "code",
   "execution_count": 105,
   "metadata": {},
   "outputs": [
    {
     "name": "stdout",
     "output_type": "stream",
     "text": [
      "1 2 3 4 5 6 7 8 9 "
     ]
    }
   ],
   "source": [
    "#function to print n natural using a while loop\n",
    "def nnaturalnumbers(n):\n",
    "    counter =1\n",
    "    while counter <=n:\n",
    "        print(counter,end =\" \")\n",
    "        counter = counter +1\n",
    "    return \n",
    "nnaturalnumbers (9)"
   ]
  },
  {
   "cell_type": "code",
   "execution_count": 110,
   "metadata": {},
   "outputs": [
    {
     "name": "stdout",
     "output_type": "stream",
     "text": [
      "enter the lower bound6\n",
      "enter the upper bound100\n",
      "6 12 18 24 30 36 42 48 54 60 66 72 78 84 90 96 "
     ]
    }
   ],
   "source": [
    "# Function to print all numbers  divisible by 6 and \n",
    "# and not a factor of 100 in a given range (lb,ub)inclusive\n",
    "\n",
    "\n",
    "def function(lb,ub):\n",
    "    \n",
    "    for i in range (lb,ub+1):\n",
    "        if i  % 6==0 and i % 100 !=0:\n",
    "             print(i,end=\" \")\n",
    "        \n",
    "lb= int (input(\"enter the lower bound\"))\n",
    "ub= int(input(\"enter the upper bound\"))\n",
    "\n",
    "function(lb,ub)"
   ]
  },
  {
   "cell_type": "code",
   "execution_count": null,
   "metadata": {},
   "outputs": [],
   "source": [
    "#function to find the average of cubes of all even number\n",
    "#in given range (lb,ub) inclusive\n",
    "\n",
    "def function(lb,ub):\n",
    "    aver=0;\n",
    "    for i in range (lb,ub+1):\n",
    "        if i % 2 == 0 :\n",
    "            aver=aver+i**3;\n",
    "            print(\"numbers are\",i)\n",
    "    print(\"aver is\",aver )   \n",
    "lb= int (input(\"enter the lower bound\"))\n",
    "ub= int(input(\"enter the upper bound\"))\n",
    "\n",
    "function(lb,ub)"
   ]
  },
  {
   "cell_type": "code",
   "execution_count": 4,
   "metadata": {},
   "outputs": [
    {
     "name": "stdout",
     "output_type": "stream",
     "text": [
      "enter the lower bound4\n",
      "enter the upper bound20\n",
      "numbers are 4\n",
      "numbers are 6\n",
      "numbers are 8\n",
      "numbers are 10\n",
      "numbers are 12\n",
      "numbers are 14\n",
      "numbers are 16\n",
      "numbers are 18\n",
      "numbers are 20\n",
      "aver is 24192\n"
     ]
    }
   ],
   "source": [
    "#function to find the average of cubes of all even number\n",
    "#in given range (lb,ub) inclusive\n",
    "\n",
    "def function(lb,ub):\n",
    "    aver=0;\n",
    "    for i in range (lb,ub+1):\n",
    "        if i % 2 == 0 :\n",
    "            aver=aver+i**3;\n",
    "            print(\"numbers are\",i)\n",
    "    print(\"aver is\",aver )   \n",
    "lb= int (input(\"enter the lower bound\"))\n",
    "ub= int(input(\"enter the upper bound\"))\n",
    "\n",
    "function(lb,ub)"
   ]
  },
  {
   "cell_type": "code",
   "execution_count": 28,
   "metadata": {},
   "outputs": [
    {
     "name": "stdout",
     "output_type": "stream",
     "text": [
      "enter numebr5\n",
      "1\n",
      "2\n",
      "3\n",
      "4\n",
      "5\n",
      "fact 120\n"
     ]
    }
   ],
   "source": [
    "#function to genarate the list of factorial of given number\n",
    "#12->1 2 3 4 6 12\n",
    "\n",
    "def fact(n):\n",
    "    fact =1;\n",
    "    for i in range (1,n+1):\n",
    "        fact=fact*i;\n",
    "        print(i)\n",
    "    print(\"fact\",fact)\n",
    "n=int(input(\"enter numebr\"))\n",
    "fact(n)\n",
    "    "
   ]
  },
  {
   "cell_type": "code",
   "execution_count": 20,
   "metadata": {},
   "outputs": [
    {
     "data": {
      "text/plain": [
       "1"
      ]
     },
     "execution_count": 20,
     "metadata": {},
     "output_type": "execute_result"
    }
   ],
   "source": [
    "#function to check if a given number is prime \n",
    "def prime(n):\n",
    "    flag = 1\n",
    "    for i in range (2,n//2):\n",
    "        if n % i==0:\n",
    "            flag = False\n",
    "            return flag\n",
    "        return flag\n",
    "prime(17)\n",
    "    "
   ]
  },
  {
   "cell_type": "code",
   "execution_count": 1,
   "metadata": {},
   "outputs": [
    {
     "data": {
      "text/plain": [
       "15.0"
      ]
     },
     "execution_count": 1,
     "metadata": {},
     "output_type": "execute_result"
    }
   ],
   "source": [
    "(11+13+17+19)/4"
   ]
  },
  {
   "cell_type": "code",
   "execution_count": 2,
   "metadata": {},
   "outputs": [
    {
     "name": "stdout",
     "output_type": "stream",
     "text": [
      "enter lb of range11\n",
      "enteru\\ ub of range20\n",
      "15.0\n"
     ]
    }
   ],
   "source": [
    "#function to calculate the average first N prime number\n",
    "def avgprime(lb,ub):\n",
    "    sum=0\n",
    "    avg=0\n",
    "    for i in range (lb,ub+1):\n",
    "        count =0\n",
    "        \n",
    "        for j in range (1,i+1):\n",
    "            if i % j==0:\n",
    "                count+=1\n",
    "        if count == 2:\n",
    "            sum = sum+i\n",
    "            avg = avg+1\n",
    "    print(sum/avg)\n",
    "    \n",
    "lb=int(input(\"enter lb of range\"))\n",
    "ub=int(input(\"enteru\\ ub of range\"))\n",
    "avgprime(lb,ub)\n",
    "        \n",
    "    \n",
    "            "
   ]
  },
  {
   "cell_type": "code",
   "execution_count": 5,
   "metadata": {},
   "outputs": [
    {
     "ename": "SyntaxError",
     "evalue": "invalid syntax (<ipython-input-5-8c6631fbf8ee>, line 2)",
     "output_type": "error",
     "traceback": [
      "\u001b[1;36m  File \u001b[1;32m\"<ipython-input-5-8c6631fbf8ee>\"\u001b[1;36m, line \u001b[1;32m2\u001b[0m\n\u001b[1;33m    def\u001b[0m\n\u001b[1;37m        ^\u001b[0m\n\u001b[1;31mSyntaxError\u001b[0m\u001b[1;31m:\u001b[0m invalid syntax\n"
     ]
    }
   ],
   "source": [
    "#function to generate all perfect numbers in a given range \n",
    "def "
   ]
  },
  {
   "cell_type": "code",
   "execution_count": null,
   "metadata": {},
   "outputs": [],
   "source": []
  },
  {
   "cell_type": "code",
   "execution_count": 13,
   "metadata": {},
   "outputs": [
    {
     "name": "stdout",
     "output_type": "stream",
     "text": [
      "500 505 510 515 520 525 "
     ]
    }
   ],
   "source": [
    "#Function to print the revese a range in the same line\n",
    "#[500,550] ->500 502 504................. 550\n",
    "#(500, 550) ->501 503 505.................549\n",
    "# Range (500,550)->500 501 502........549\n",
    "#All set based function in Python have start  value inclusive\n",
    "\n",
    "def alternatevalues(start, end):\n",
    "    for value in range (start,end+1,):\n",
    "        print(value,end=\" \")\n",
    "    return\n",
    "alternatevalues(500,525)\n"
   ]
  },
  {
   "cell_type": "code",
   "execution_count": 34,
   "metadata": {},
   "outputs": [
    {
     "name": "stdout",
     "output_type": "stream",
     "text": [
      "10 9 8 7 6 5 4 3 2 1 "
     ]
    }
   ],
   "source": [
    "#Function to print reverse of given in the same \n",
    "def revrserange(start,end):\n",
    "    for  value in range (end,start-1,-1):\n",
    "            print(value,end=\" \")\n",
    "    return\n",
    "revrserange(1,10)"
   ]
  },
  {
   "cell_type": "code",
   "execution_count": 35,
   "metadata": {},
   "outputs": [
    {
     "name": "stdout",
     "output_type": "stream",
     "text": [
      "9 7 5 3 1 "
     ]
    }
   ],
   "source": [
    "#Function to print the odd number in revese order  in a range\n",
    "def revrserangeodd(start,end):\n",
    "    for  value in range (end,start-1,-1):\n",
    "        if value %  2== 1:\n",
    "            print(value,end=\" \")\n",
    "    return\n",
    "revrserangeodd(1,10)\n"
   ]
  },
  {
   "cell_type": "code",
   "execution_count": 52,
   "metadata": {},
   "outputs": [
    {
     "name": "stdout",
     "output_type": "stream",
     "text": [
      "55\n",
      "15050.0\n"
     ]
    }
   ],
   "source": [
    "#Function to calculate the sum of numbers in a range \n",
    "def sumrange(start,end):\n",
    "    sum=0\n",
    "    for i in range (start, end+1):\n",
    "        sum = sum+i\n",
    "    return sum\n",
    "    \n",
    "print (sumrange(1,10))\n",
    "print (200*201/2-(100*101/2))    "
   ]
  },
  {
   "cell_type": "code",
   "execution_count": null,
   "metadata": {},
   "outputs": [],
   "source": []
  },
  {
   "cell_type": "code",
   "execution_count": 54,
   "metadata": {},
   "outputs": [
    {
     "data": {
      "text/plain": [
       "27.5"
      ]
     },
     "execution_count": 54,
     "metadata": {},
     "output_type": "execute_result"
    }
   ],
   "source": [
    "#Function to calculate the half of    average of a given range \n",
    "def avgrange(start,end):\n",
    "    sum=0\n",
    "    for i in range (start, end+1):\n",
    "        sum = sum+i\n",
    "    return sum/2\n",
    "    \n",
    "avgrange(1,10)\n",
    "    "
   ]
  },
  {
   "cell_type": "code",
   "execution_count": 8,
   "metadata": {},
   "outputs": [
    {
     "data": {
      "text/plain": [
       "3000.0"
      ]
     },
     "execution_count": 8,
     "metadata": {},
     "output_type": "execute_result"
    }
   ],
   "source": [
    "#Function to calculate the average of a given range \n",
    "#(1,5)->3\n",
    "def averagerange(start,end):\n",
    "    sum=0\n",
    "    count=0\n",
    "    for i in range (start,end+1):\n",
    "        sum=sum+i #sum calculation \n",
    "         #count=count +1  #counting numberof values \n",
    "    return sum/(end-start+1)\n",
    "\n",
    "averagerange(1000,5000)\n",
    "        \n",
    "\n"
   ]
  },
  {
   "cell_type": "code",
   "execution_count": 23,
   "metadata": {},
   "outputs": [
    {
     "name": "stdout",
     "output_type": "stream",
     "text": [
      "1920 1924 1928 1932 1936 1940 1944 1948 1952 1956 1960 1964 1968 1972 1976 1980 1984 1988 1992 1996 2000 2004 2008 2012 2016 "
     ]
    }
   ],
   "source": [
    "# function to generate all leap years in a given time period  \n",
    "# [2000-2020]->2000 2004 2008 2012 2016 2020\n",
    "\n",
    "def isLeapYear(year): \n",
    "    if year % 400 == 0 or (year % 100 != 0 and year % 4 == 0):\n",
    "        return True \n",
    "    return False \n",
    "\n",
    "def generateLeapYear(startyear,endyear): #uses the isLeapYear()\n",
    "    for year in range (startyear, endyear+1):\n",
    "        if isLeapYear(year):\n",
    "            print(year,end=\" \")\n",
    "    return\n",
    "\n",
    "generateLeapYear(1919,2019)\n",
    "\n",
    "\n",
    "\n",
    "                "
   ]
  },
  {
   "cell_type": "code",
   "execution_count": null,
   "metadata": {},
   "outputs": [],
   "source": [
    "#Find to print all numbers divisible by 6\n",
    "# and not factor of 100 in given range (lb,ub) inclusive\n"
   ]
  },
  {
   "cell_type": "code",
   "execution_count": 27,
   "metadata": {},
   "outputs": [
    {
     "data": {
      "text/plain": [
       "35064"
      ]
     },
     "execution_count": 27,
     "metadata": {},
     "output_type": "execute_result"
    }
   ],
   "source": [
    "#claculate number of days in given time period using leapyear logic\n",
    "#For every year in the given time period, if the year is number \n",
    "\n",
    "def numberofdays(startyear,endyear):\n",
    "    sum = 0\n",
    "\n",
    "    for year in range (startyear,endyear+1):\n",
    "        if isLeapYear(year):\n",
    "            sum = sum + 366\n",
    "        else:\n",
    "            sum = sum + 365\n",
    "    return sum\n",
    "numberofdays(1919,2014)\n",
    "            \n",
    "\n"
   ]
  },
  {
   "cell_type": "raw",
   "metadata": {},
   "source": []
  },
  {
   "cell_type": "code",
   "execution_count": 48,
   "metadata": {},
   "outputs": [
    {
     "data": {
      "text/plain": [
       "1464"
      ]
     },
     "execution_count": 48,
     "metadata": {},
     "output_type": "execute_result"
    }
   ],
   "source": [
    "#Function to claculate number of hours for a given in the format (month1,year1,)\n",
    "#numberOfHours(11,1975,3,1999)->204504 or 205248\n",
    "#numberOfHours(5,2019,6,2019)\n",
    "#2,2016,6,2019\n",
    "#\n",
    "#[all days from feb 2016 to dec 2016,\n",
    "#.all days for years between 2016+1 and 2019-1,\n",
    "# all days from jan to june 2019]\n",
    "#no of hours = 24*No of days\n",
    "#3 steps\n",
    "    #1.start month year to end of year - calculate no of days \n",
    "    #2.claculate days for all years between start year \n",
    "            #2017,2018 - 365* no of years\n",
    "    #3.calculate days from jan to end month year\n",
    "#Excluding Feb\n",
    "#first Sixmonths -1,3,4,5,6\n",
    "                #All odd months have 31 days \n",
    "                #All even months have 30 days\n",
    "#Last Six months -8,9,10,11,12\n",
    "                #All even months have 31 days \n",
    "                #All odd months have 30 days\n",
    "#31 days -(month<= 7 and odd month % 2 ! =0and month !=2) ||(month>=8 and month)\n",
    "#            return 31\n",
    "#        else\n",
    "#           return 30\n",
    "\n",
    "\n",
    "def numberOfDaysMonth(month, year):\n",
    "    if month == 2:\n",
    "        if isLeapYear(year):\n",
    "            return 29\n",
    "        return 28\n",
    "    elif (month <= 7 and month % 2!= 0) or (month >= 8 and month % 2 == 0):\n",
    "        return 31\n",
    "    else:\n",
    "        return 30\n",
    "\n",
    "def daysInStartYear(startmonth, startyear):\n",
    "    days = 0 \n",
    "    for month in range(startmonth, 13):\n",
    "        days += numberOfDaysMonth(month, startyear)\n",
    "    return days    \n",
    "\n",
    "def daysInEndYear(endmonth, endyear):\n",
    "    days = 0\n",
    "    for month in range(1, endmonth+1):\n",
    "        days += numberOfDaysMonth(month, endyear)\n",
    "    return days\n",
    "\n",
    "def numberOfHours(startmonth, startyear, endmonth, endyear):\n",
    "    days = 0\n",
    "    if startyear != endyear:\n",
    "        days += daysInStartYear(startmonth, startyear)\n",
    "        days += daysInEndYear(endmonth, endyear)\n",
    "        if endyear - startyear == 2: # 2019 - 2017\n",
    "            days += numberOfDays(startyear+1, startyear+1)\n",
    "        elif endyear - startyear > 2:\n",
    "            days += numberOfDays(startyear+1, endyear-1)\n",
    "    else:\n",
    "        for month in range(startmonth, endmonth+1):\n",
    "            days += numberOfDaysMonth(month, startyear)\n",
    "    return 24 * days\n",
    "\n",
    "    \n",
    "     \n",
    "numberOfHours(6, 2018, 7, 2018)\n",
    " \n"
   ]
  },
  {
   "cell_type": "code",
   "execution_count": 49,
   "metadata": {},
   "outputs": [
    {
     "name": "stdout",
     "output_type": "stream",
     "text": [
      "102 108 114 120 126 132 138 144 150 156 162 168 174 180 186 192 198 "
     ]
    }
   ],
   "source": [
    "# Function to print all numbers divisible by 6\n",
    "# and not a factor of 100 in a given range(lb, ub) inclusive\n",
    "\n",
    "def divisible6(lb, ub):\n",
    "    for i in range(lb, ub+1):\n",
    "        if i % 6 == 0 and 100 % i != 0:\n",
    "            print(i, end=\" \")\n",
    "    return\n",
    "\n",
    "divisible6(100, 200)"
   ]
  },
  {
   "cell_type": "code",
   "execution_count": 50,
   "metadata": {},
   "outputs": [
    {
     "data": {
      "text/plain": [
       "8.0"
      ]
     },
     "execution_count": 50,
     "metadata": {},
     "output_type": "execute_result"
    }
   ],
   "source": [
    "# Function to find the average of cubes of all even numbers\n",
    "# in a given range(lb, ub) inclusive\n",
    "# 1, 10 -> 2, 4, 6, 8, 10 -> avg(8, 64, 216, 64*8, 1000) \n",
    "def avgCubesEven(lb, ub):\n",
    "    sum = 0\n",
    "    count = 0\n",
    "    for i in range(lb, ub + 1):\n",
    "        if i % 2 == 0:\n",
    "            sum += i ** 3\n",
    "            count += 1\n",
    "    return sum/count\n",
    "\n",
    "avgCubesEven(1, 3)"
   ]
  },
  {
   "cell_type": "code",
   "execution_count": null,
   "metadata": {},
   "outputs": [],
   "source": []
  }
 ],
 "metadata": {
  "kernelspec": {
   "display_name": "Python 3",
   "language": "python",
   "name": "python3"
  },
  "language_info": {
   "codemirror_mode": {
    "name": "ipython",
    "version": 3
   },
   "file_extension": ".py",
   "mimetype": "text/x-python",
   "name": "python",
   "nbconvert_exporter": "python",
   "pygments_lexer": "ipython3",
   "version": "3.7.3"
  }
 },
 "nbformat": 4,
 "nbformat_minor": 2
}
