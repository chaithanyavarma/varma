{
 "cells": [
  {
   "cell_type": "markdown",
   "metadata": {},
   "source": [
    "### Tuples\n",
    "t1 = (  )\n",
    "li = [  ]\n",
    "Differnce between listed and tuples \n",
    "\n",
    "lists are mutable - can be changed/modified \n",
    "\n",
    "- Access,modified,add, Delete data\n",
    "\n",
    "Tuples are imutable - cannot be chhange once initilised\n",
    "\n",
    "- Used to access data only\n",
    "- All Slicing work \n"
   ]
  },
  {
   "cell_type": "code",
   "execution_count": 5,
   "metadata": {},
   "outputs": [
    {
     "data": {
      "text/plain": [
       "(8, 6, 0)"
      ]
     },
     "execution_count": 5,
     "metadata": {},
     "output_type": "execute_result"
    }
   ],
   "source": [
    "t1 = (1,2,8,6,0)\n",
    "\n",
    "t1 [3] # acc8essing fout element\n",
    "\n",
    "# Accessing all element from middle to last\n",
    "\n",
    "t1 [len(t1)//2:] # accessing all element from middle\n"
   ]
  },
  {
   "cell_type": "code",
   "execution_count": 6,
   "metadata": {},
   "outputs": [
    {
     "data": {
      "text/plain": [
       "tuple"
      ]
     },
     "execution_count": 6,
     "metadata": {},
     "output_type": "execute_result"
    }
   ],
   "source": [
    "type(t1)"
   ]
  },
  {
   "cell_type": "markdown",
   "metadata": {},
   "source": [
    "### Dictionaries\n",
    "\n",
    "It works on the concept of set \n",
    "\n",
    "\n",
    "Unique data \n",
    "\n",
    "\n",
    "\n",
    "\n",
    "Keys,Values\n",
    "\n",
    "Key is the unique identifier for a value \n",
    "\n",
    "\n",
    "Value is data that can be accessed with a key\n",
    "\n",
    "\n"
   ]
  },
  {
   "cell_type": "code",
   "execution_count": 17,
   "metadata": {},
   "outputs": [
    {
     "data": {
      "text/plain": [
       "True"
      ]
     },
     "execution_count": 17,
     "metadata": {},
     "output_type": "execute_result"
    }
   ],
   "source": [
    "d1 ={\"k1\":\"value1\",\"k2\":\"value2\"}\n",
    "\n",
    "d1[\"k2\"] # Accessing  the value with key \"k2\"\n",
    "\n",
    "d1.keys() #returns list of all keys \n",
    "d1.values() #returns list of all values \n",
    "\n",
    "d1.items() # Returns list of tuples oF keys and values\n",
    "d1[\"k3\"] = \"values3\" # Adding an element to the dictonaries \n",
    "d1[\"k3\"] = \"values4\" # Updating an element \n",
    "d1.pop(\"k3\") #Removing an element\n",
    "\"k1\" in d1\n",
    "\"value\" in d1\n",
    "\"k2\" in d1\n",
    " "
   ]
  },
  {
   "cell_type": "markdown",
   "metadata": {},
   "source": [
    " ### Contact Application  \n",
    " - Add Contact\n",
    " - Search for contact \n",
    " - List all contacts\n",
    "     - name1 : phone 1\n",
    "     - name2 : phone 2\n",
    " - Modify contact \n",
    " - Remove contact\n",
    " - Import contacts \n",
    "    \n",
    "    \n",
    "    "
   ]
  },
  {
   "cell_type": "code",
   "execution_count": 30,
   "metadata": {},
   "outputs": [
    {
     "name": "stdout",
     "output_type": "stream",
     "text": [
      "contact saved\n"
     ]
    }
   ],
   "source": [
    "contacts = {}\n",
    "\n",
    "def addcontact (name, phone):\n",
    "    # Verify that the contact doesnot aleardy exists\n",
    "    if name not in contacts:\n",
    "        contacts[name] = phone\n",
    "        print(\"contact saved\")\n",
    "    else:\n",
    "        print (\"contact % aleardy esxists\" % name )\n",
    "    return\n",
    "\n",
    "addcontact(\"varma\",\"9885958060\")\n",
    "\n",
    "\n",
    "\n",
    "\n",
    "\n"
   ]
  },
  {
   "cell_type": "code",
   "execution_count": 32,
   "metadata": {},
   "outputs": [
    {
     "name": "stdout",
     "output_type": "stream",
     "text": [
      "varma : 9885958060\n"
     ]
    }
   ],
   "source": [
    "def searchcontacts (name):\n",
    "    if name in contacts:\n",
    "        print (name,\":\", contacts[name])\n",
    "    else:\n",
    "        print(\"%s does not exists\" % name)\n",
    "        return \n",
    "searchcontacts(\"varma\")\n"
   ]
  },
  {
   "cell_type": "code",
   "execution_count": 6,
   "metadata": {},
   "outputs": [
    {
     "name": "stdout",
     "output_type": "stream",
     "text": [
      "2  contacts added successfully\n"
     ]
    }
   ],
   "source": [
    "# New contscts is given as a dictionary \n",
    "# Merge new contacts with existing contacts \n",
    "def importcontacts(contacts):\n",
    "    contacts.update (newcontacts)\n",
    "    print(len(newcontacts.keys()),\" contacts added successfully\")\n",
    "    return \n",
    "newcontacts = {\"name2\":9490630713,\"name3\":9959819207}\n",
    "importcontacts(newcontacts)\n",
    "    \n"
   ]
  },
  {
   "cell_type": "code",
   "execution_count": 40,
   "metadata": {},
   "outputs": [
    {
     "data": {
      "text/plain": [
       "{'varma': '9885958060', 'name2': 9490630713, 'name3': 9959819207}"
      ]
     },
     "execution_count": 40,
     "metadata": {},
     "output_type": "execute_result"
    }
   ],
   "source": [
    "contacts"
   ]
  },
  {
   "cell_type": "code",
   "execution_count": 9,
   "metadata": {},
   "outputs": [
    {
     "ename": "TypeError",
     "evalue": "newcontacts() missing 1 required positional argument: 'number'",
     "output_type": "error",
     "traceback": [
      "\u001b[1;31m---------------------------------------------------------------------------\u001b[0m",
      "\u001b[1;31mTypeError\u001b[0m                                 Traceback (most recent call last)",
      "\u001b[1;32m<ipython-input-9-a7d88770c8c4>\u001b[0m in \u001b[0;36m<module>\u001b[1;34m\u001b[0m\n\u001b[0;32m      4\u001b[0m     \u001b[1;32melse\u001b[0m\u001b[1;33m:\u001b[0m\u001b[1;33m\u001b[0m\u001b[1;33m\u001b[0m\u001b[0m\n\u001b[0;32m      5\u001b[0m         \u001b[0mcontacts\u001b[0m\u001b[1;33m[\u001b[0m\u001b[0mname\u001b[0m\u001b[1;33m]\u001b[0m\u001b[1;33m\u001b[0m\u001b[1;33m\u001b[0m\u001b[0m\n\u001b[1;32m----> 6\u001b[1;33m \u001b[0mnewcontacts\u001b[0m\u001b[1;33m(\u001b[0m\u001b[1;34m\"9885958060\"\u001b[0m\u001b[1;33m)\u001b[0m\u001b[1;33m\u001b[0m\u001b[1;33m\u001b[0m\u001b[0m\n\u001b[0m",
      "\u001b[1;31mTypeError\u001b[0m: newcontacts() missing 1 required positional argument: 'number'"
     ]
    }
   ],
   "source": [
    "def newcontacts(name,number):\n",
    "    if name in contacts:\n",
    "        print (\"exists\")\n",
    "    else:\n",
    "        contacts[name] = number\n",
    "newcontacts(\"9885958060\")\n"
   ]
  },
  {
   "cell_type": "markdown",
   "metadata": {},
   "source": [
    "### Packages  and Modules\n",
    "\n",
    "### **Packages** -> - collection of modules(Python File.py and sub packages\n",
    "** Sub Packages** ->\n",
    "\n",
    "### Modules   -> - Single python file containg functions\n",
    "\n",
    "Package->Subpackages -> Modules -> Functions\n"
   ]
  },
  {
   "cell_type": "code",
   "execution_count": 12,
   "metadata": {},
   "outputs": [
    {
     "data": {
      "text/plain": [
       "123"
      ]
     },
     "execution_count": 12,
     "metadata": {},
     "output_type": "execute_result"
    }
   ],
   "source": [
    "from math import floor as fl\n",
    "\n",
    "fl(123.456)\n",
    "\n"
   ]
  },
  {
   "cell_type": "code",
   "execution_count": 25,
   "metadata": {},
   "outputs": [
    {
     "name": "stdout",
     "output_type": "stream",
     "text": [
      "93 98 42 25 69 38 32 21 55 53 "
     ]
    }
   ],
   "source": [
    "# Function to genrate N random numbers\n",
    "import random \n",
    "def genarateNrandomnumbers (n,lb,ub):\n",
    "    for i in range (0,n):\n",
    "        print(random.randint (lb, ub),end=\" \")\n",
    "        \n",
    "genarateNrandomnumbers(10,0,100)"
   ]
  },
  {
   "cell_type": "code",
   "execution_count": null,
   "metadata": {},
   "outputs": [],
   "source": []
  }
 ],
 "metadata": {
  "kernelspec": {
   "display_name": "Python 3",
   "language": "python",
   "name": "python3"
  },
  "language_info": {
   "codemirror_mode": {
    "name": "ipython",
    "version": 3
   },
   "file_extension": ".py",
   "mimetype": "text/x-python",
   "name": "python",
   "nbconvert_exporter": "python",
   "pygments_lexer": "ipython3",
   "version": "3.7.3"
  }
 },
 "nbformat": 4,
 "nbformat_minor": 2
}
